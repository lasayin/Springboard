{
 "cells": [
  {
   "cell_type": "markdown",
   "metadata": {},
   "source": [
    "This exercise will require you to pull some data from the Qunadl API. Qaundl is currently the most widely used aggregator of financial market data."
   ]
  },
  {
   "cell_type": "markdown",
   "metadata": {},
   "source": [
    "As a first step, you will need to register a free account on the http://www.quandl.com website."
   ]
  },
  {
   "cell_type": "markdown",
   "metadata": {},
   "source": [
    "After you register, you will be provided with a unique API key, that you should store:"
   ]
  },
  {
   "cell_type": "code",
   "execution_count": 1,
   "metadata": {
    "ExecuteTime": {
     "end_time": "2020-12-18T07:01:53.403554Z",
     "start_time": "2020-12-18T07:01:53.397952Z"
    }
   },
   "outputs": [],
   "source": [
    "# Store the API key as a string - according to PEP8, constants are always named in all upper case\n",
    "API_KEY = 'MY_API_KEY'"
   ]
  },
  {
   "cell_type": "markdown",
   "metadata": {},
   "source": [
    "Qaundl has a large number of data sources, but, unfortunately, most of them require a Premium subscription. Still, there are also a good number of free datasets."
   ]
  },
  {
   "cell_type": "markdown",
   "metadata": {},
   "source": [
    "For this mini project, we will focus on equities data from the Frankfurt Stock Exhange (FSE), which is available for free. We'll try and analyze the stock prices of a company called Carl Zeiss Meditec, which manufactures tools for eye examinations, as well as medical lasers for laser eye surgery: https://www.zeiss.com/meditec/int/home.html. The company is listed under the stock ticker AFX_X."
   ]
  },
  {
   "cell_type": "markdown",
   "metadata": {},
   "source": [
    "You can find the detailed Quandl API instructions here: https://docs.quandl.com/docs/time-series"
   ]
  },
  {
   "cell_type": "markdown",
   "metadata": {},
   "source": [
    "While there is a dedicated Python package for connecting to the Quandl API, we would prefer that you use the *requests* package, which can be easily downloaded using *pip* or *conda*. You can find the documentation for the package here: http://docs.python-requests.org/en/master/ "
   ]
  },
  {
   "cell_type": "markdown",
   "metadata": {},
   "source": [
    "Finally, apart from the *requests* package, you are encouraged to not use any third party Python packages, such as *pandas*, and instead focus on what's available in the Python Standard Library (the *collections* module might come in handy: https://pymotw.com/3/collections/ ).\n",
    "Also, since you won't have access to DataFrames, you are encouraged to us Python's native data structures - preferably dictionaries, though some questions can also be answered using lists.\n",
    "You can read more on these data structures here: https://docs.python.org/3/tutorial/datastructures.html"
   ]
  },
  {
   "cell_type": "markdown",
   "metadata": {},
   "source": [
    "Keep in mind that the JSON responses you will be getting from the API map almost one-to-one to Python's dictionaries. Unfortunately, they can be very nested, so make sure you read up on indexing dictionaries in the documentation provided above."
   ]
  },
  {
   "cell_type": "code",
   "execution_count": 2,
   "metadata": {
    "ExecuteTime": {
     "end_time": "2020-12-18T07:01:53.548617Z",
     "start_time": "2020-12-18T07:01:53.408520Z"
    }
   },
   "outputs": [],
   "source": [
    "# First, import the relevant modules\n",
    "import requests\n",
    "import json"
   ]
  },
  {
   "cell_type": "code",
   "execution_count": 3,
   "metadata": {
    "ExecuteTime": {
     "end_time": "2020-12-18T07:01:53.827025Z",
     "start_time": "2020-12-18T07:01:53.552148Z"
    }
   },
   "outputs": [],
   "source": [
    "# Now, call the Quandl API and pull out a small sample of the data (only one day) to get a glimpse\n",
    "# into the JSON structure that will be returned\n",
    "url = \"https://www.quandl.com/api/v3/datasets/FSE/AFX_X/data.json\"\n",
    "params_sample = dict(key=API_KEY, start_date='2020-06-10', end_date='2020-06-11')\n",
    "res_sample = requests.get(url, params_sample)"
   ]
  },
  {
   "cell_type": "code",
   "execution_count": 4,
   "metadata": {
    "ExecuteTime": {
     "end_time": "2020-12-18T07:01:53.835104Z",
     "start_time": "2020-12-18T07:01:53.829824Z"
    }
   },
   "outputs": [
    {
     "name": "stdout",
     "output_type": "stream",
     "text": [
      "{'dataset_data': {'limit': None, 'transform': None, 'column_index': None, 'column_names': ['Date', 'Open', 'High', 'Low', 'Close', 'Change', 'Traded Volume', 'Turnover', 'Last Price of the Day', 'Daily Traded Units', 'Daily Turnover'], 'start_date': '2020-06-10', 'end_date': '2020-06-11', 'frequency': 'daily', 'data': [['2020-06-11', 87.0, 87.65, 85.55, 86.3, None, 127406.0, 11026683.1, None, None, None], ['2020-06-10', 89.25, 90.1, 87.0, 87.8, None, 192426.0, 16965135.2, None, None, None]], 'collapse': None, 'order': None}}\n"
     ]
    }
   ],
   "source": [
    "# Inspect the JSON structure of the object you created, and take note of how nested it is,\n",
    "# as well as the overall structure\n",
    "json_data_sample = res_sample.json()\n",
    "print(json_data_sample)"
   ]
  },
  {
   "cell_type": "markdown",
   "metadata": {},
   "source": [
    "These are your tasks for this mini project:\n",
    "\n",
    "1. Collect data from the Franfurt Stock Exchange, for the ticker AFX_X, for the whole year 2017 (keep in mind that the date format is YYYY-MM-DD).\n",
    "2. Convert the returned JSON object into a Python dictionary.\n",
    "3. Calculate what the highest and lowest opening prices were for the stock in this period.\n",
    "4. What was the largest change in any one day (based on High and Low price)?\n",
    "5. What was the largest change between any two days (based on Closing Price)?\n",
    "6. What was the average daily trading volume during this year?\n",
    "7. (Optional) What was the median trading volume during this year. (Note: you may need to implement your own function for calculating the median.)"
   ]
  },
  {
   "cell_type": "code",
   "execution_count": 5,
   "metadata": {
    "ExecuteTime": {
     "end_time": "2020-12-18T07:01:54.119905Z",
     "start_time": "2020-12-18T07:01:53.838201Z"
    }
   },
   "outputs": [],
   "source": [
    "# Collect data from the Franfurt Stock Exchange, for the ticker AFX_X, for the whole year 2017\n",
    "url = \"https://www.quandl.com/api/v3/datasets/FSE/AFX_X/data.json\"\n",
    "params = dict(key=API_KEY, start_date='2017-01-01', end_date='2017-12-31')\n",
    "res = requests.get(url, params)"
   ]
  },
  {
   "cell_type": "code",
   "execution_count": 6,
   "metadata": {
    "ExecuteTime": {
     "end_time": "2020-12-18T07:01:54.126723Z",
     "start_time": "2020-12-18T07:01:54.122536Z"
    }
   },
   "outputs": [],
   "source": [
    "# Convert the returned JSON object into a Python dictionary\n",
    "json_data = res.json()"
   ]
  },
  {
   "cell_type": "code",
   "execution_count": 7,
   "metadata": {
    "ExecuteTime": {
     "end_time": "2020-12-18T07:01:54.136602Z",
     "start_time": "2020-12-18T07:01:54.132311Z"
    }
   },
   "outputs": [],
   "source": [
    "# Define the variable to be iterated: data\n",
    "data = json_data['dataset_data']['data']"
   ]
  },
  {
   "cell_type": "code",
   "execution_count": 8,
   "metadata": {
    "ExecuteTime": {
     "end_time": "2020-12-18T07:01:54.148788Z",
     "start_time": "2020-12-18T07:01:54.140995Z"
    }
   },
   "outputs": [
    {
     "name": "stdout",
     "output_type": "stream",
     "text": [
      "The highest opening price of AFX_X in 2017: $53.11\n",
      "The lowest opening price of AFX_X in 2017: $34.0\n"
     ]
    }
   ],
   "source": [
    "# Calculate what the highest and lowest opening prices were for the stock in this period\n",
    "opening_prices = []\n",
    "\n",
    "for daily_data in data:\n",
    "    opening = daily_data[1]\n",
    "    if opening != None:\n",
    "        opening_prices.append(opening)\n",
    "\n",
    "print(\"The highest opening price of AFX_X in 2017:\", '$'+ str(max(opening_prices)))\n",
    "print(\"The lowest opening price of AFX_X in 2017:\", '$'+ str(min(opening_prices)))"
   ]
  },
  {
   "cell_type": "code",
   "execution_count": 9,
   "metadata": {
    "ExecuteTime": {
     "end_time": "2020-12-18T07:01:54.160491Z",
     "start_time": "2020-12-18T07:01:54.151395Z"
    }
   },
   "outputs": [
    {
     "name": "stdout",
     "output_type": "stream",
     "text": [
      "The largest change in any one day of AFX_X in 2017: $2.81\n"
     ]
    }
   ],
   "source": [
    "# Calculate the largest change in any one day (based on High and Low price)\n",
    "largest_change_1 = 0\n",
    "\n",
    "for daily_data in data:\n",
    "    high = daily_data[2]\n",
    "    low = daily_data[3]\n",
    "    if high != None and low != None:\n",
    "        change_1 = high - low\n",
    "        if change_1 > largest_change_1:\n",
    "            largest_change_1 = change_1\n",
    "        \n",
    "print(\"The largest change in any one day of AFX_X in 2017: ${:.2f}\".format(largest_change_1))"
   ]
  },
  {
   "cell_type": "code",
   "execution_count": 10,
   "metadata": {
    "ExecuteTime": {
     "end_time": "2020-12-18T07:01:54.171647Z",
     "start_time": "2020-12-18T07:01:54.163175Z"
    }
   },
   "outputs": [
    {
     "name": "stdout",
     "output_type": "stream",
     "text": [
      "The largest change between any two days of AFX_X in 2017: $2.56\n"
     ]
    }
   ],
   "source": [
    "# Calculate the largest change between any two days (based on Closing Price)\n",
    "largest_change_2 = 0\n",
    "\n",
    "for i in range(1, len(data)):\n",
    "    day2_closing = data[i][4]\n",
    "    day1_closing = data[i-1][4]\n",
    "    if day2_closing != None and day1_closing != None:\n",
    "        change_2 = abs(day2_closing - day1_closing)\n",
    "        if change_2 > largest_change_2:\n",
    "            largest_change_2 = change_2\n",
    "\n",
    "print(\"The largest change between any two days of AFX_X in 2017: ${:.2f}\".format(largest_change_2))"
   ]
  },
  {
   "cell_type": "code",
   "execution_count": 11,
   "metadata": {
    "ExecuteTime": {
     "end_time": "2020-12-18T07:01:54.194321Z",
     "start_time": "2020-12-18T07:01:54.186866Z"
    }
   },
   "outputs": [
    {
     "name": "stdout",
     "output_type": "stream",
     "text": [
      "The the average daily trading volume of AFX_X in 2017: 89124\n"
     ]
    }
   ],
   "source": [
    "# Calculate the average daily trading volume during this year\n",
    "trading_volume = []\n",
    "\n",
    "for daily_data in data:\n",
    "    trading = daily_data[6]\n",
    "    if trading != None:\n",
    "        trading_volume.append(trading)\n",
    "        \n",
    "average_trading = sum(trading_volume) / len(trading_volume)\n",
    "\n",
    "print(\"The the average daily trading volume of AFX_X in 2017: {:.0f}\".format(average_trading))"
   ]
  },
  {
   "cell_type": "code",
   "execution_count": 12,
   "metadata": {
    "ExecuteTime": {
     "end_time": "2020-12-18T07:01:54.203171Z",
     "start_time": "2020-12-18T07:01:54.197019Z"
    }
   },
   "outputs": [
    {
     "name": "stdout",
     "output_type": "stream",
     "text": [
      "The the median trading volume of AFX_X in 2017: 76286\n"
     ]
    }
   ],
   "source": [
    "# Calculate the median trading volume during this year\n",
    "def median_trading():\n",
    "    trading_sorted = sorted(trading_volume)\n",
    "    length = len(trading_sorted)\n",
    "    if length % 2 == 0:\n",
    "        return trading_sorted[length // 2]\n",
    "    else:\n",
    "        return trading_sorted[(length-1) // 2]\n",
    "\n",
    "print(\"The the median trading volume of AFX_X in 2017: {:.0f}\".format(median_trading()))"
   ]
  }
 ],
 "metadata": {
  "hide_input": false,
  "kernelspec": {
   "display_name": "Python 3",
   "language": "python",
   "name": "python3"
  },
  "language_info": {
   "codemirror_mode": {
    "name": "ipython",
    "version": 3
   },
   "file_extension": ".py",
   "mimetype": "text/x-python",
   "name": "python",
   "nbconvert_exporter": "python",
   "pygments_lexer": "ipython3",
   "version": "3.8.3"
  },
  "toc": {
   "base_numbering": 1,
   "nav_menu": {},
   "number_sections": true,
   "sideBar": true,
   "skip_h1_title": true,
   "title_cell": "Table of Contents",
   "title_sidebar": "Contents",
   "toc_cell": false,
   "toc_position": {},
   "toc_section_display": true,
   "toc_window_display": false
  },
  "varInspector": {
   "cols": {
    "lenName": 16,
    "lenType": 16,
    "lenVar": 40
   },
   "kernels_config": {
    "python": {
     "delete_cmd_postfix": "",
     "delete_cmd_prefix": "del ",
     "library": "var_list.py",
     "varRefreshCmd": "print(var_dic_list())"
    },
    "r": {
     "delete_cmd_postfix": ") ",
     "delete_cmd_prefix": "rm(",
     "library": "var_list.r",
     "varRefreshCmd": "cat(var_dic_list()) "
    }
   },
   "types_to_exclude": [
    "module",
    "function",
    "builtin_function_or_method",
    "instance",
    "_Feature"
   ],
   "window_display": false
  }
 },
 "nbformat": 4,
 "nbformat_minor": 2
}
