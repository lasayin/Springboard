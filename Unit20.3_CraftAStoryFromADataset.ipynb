{
 "cells": [
  {
   "cell_type": "markdown",
   "metadata": {
    "toc": true
   },
   "source": [
    "<h1>Table of Contents<span class=\"tocSkip\"></span></h1>\n",
    "<div class=\"toc\"><ul class=\"toc-item\"><li><span><a href=\"#Preparing-Datasets\" data-toc-modified-id=\"Preparing-Datasets-1\"><span class=\"toc-item-num\">1&nbsp;&nbsp;</span>Preparing Datasets</a></span><ul class=\"toc-item\"><li><span><a href=\"#Material-footprint-per-capita\" data-toc-modified-id=\"Material-footprint-per-capita-1.1\"><span class=\"toc-item-num\">1.1&nbsp;&nbsp;</span>Material footprint per capita</a></span></li><li><span><a href=\"#CO2-emission-per-capita\" data-toc-modified-id=\"CO2-emission-per-capita-1.2\"><span class=\"toc-item-num\">1.2&nbsp;&nbsp;</span>CO2 emission per capita</a></span></li><li><span><a href=\"#Human-development-index\" data-toc-modified-id=\"Human-development-index-1.3\"><span class=\"toc-item-num\">1.3&nbsp;&nbsp;</span>Human development index</a></span></li><li><span><a href=\"#The-final-dataset\" data-toc-modified-id=\"The-final-dataset-1.4\"><span class=\"toc-item-num\">1.4&nbsp;&nbsp;</span>The final dataset</a></span></li></ul></li><li><span><a href=\"#Data-Analysis\" data-toc-modified-id=\"Data-Analysis-2\"><span class=\"toc-item-num\">2&nbsp;&nbsp;</span>Data Analysis</a></span><ul class=\"toc-item\"><li><span><a href=\"#HDI-in-2017\" data-toc-modified-id=\"HDI-in-2017-2.1\"><span class=\"toc-item-num\">2.1&nbsp;&nbsp;</span>HDI in 2017</a></span></li><li><span><a href=\"#HDI-trend-from-1998-to-2017\" data-toc-modified-id=\"HDI-trend-from-1998-to-2017-2.2\"><span class=\"toc-item-num\">2.2&nbsp;&nbsp;</span>HDI trend from 1998 to 2017</a></span></li><li><span><a href=\"#Median-of-CO2-emission-per-capita-and-material-footprint-per-capita-trends\" data-toc-modified-id=\"Median-of-CO2-emission-per-capita-and-material-footprint-per-capita-trends-2.3\"><span class=\"toc-item-num\">2.3&nbsp;&nbsp;</span>Median of CO2 emission per capita and material footprint per capita trends</a></span></li><li><span><a href=\"#Human-development-index(HDI),-planet-pressure-adjusted-HDI(PHDI),-and-adjustment-index\" data-toc-modified-id=\"Human-development-index(HDI),-planet-pressure-adjusted-HDI(PHDI),-and-adjustment-index-2.4\"><span class=\"toc-item-num\">2.4&nbsp;&nbsp;</span>Human development index(HDI), planet-pressure adjusted HDI(PHDI), and adjustment index</a></span></li><li><span><a href=\"#HDI-v.s.-PHDI-in-2017-by-Human-Development-Level\" data-toc-modified-id=\"HDI-v.s.-PHDI-in-2017-by-Human-Development-Level-2.5\"><span class=\"toc-item-num\">2.5&nbsp;&nbsp;</span>HDI v.s. PHDI in 2017 by Human Development Level</a></span></li></ul></li></ul></div>"
   ]
  },
  {
   "cell_type": "code",
   "execution_count": 1,
   "metadata": {
    "ExecuteTime": {
     "end_time": "2021-06-19T05:03:01.724597Z",
     "start_time": "2021-06-19T05:02:58.865754Z"
    }
   },
   "outputs": [],
   "source": [
    "import pandas as pd\n",
    "import numpy as np\n",
    "import seaborn as sns\n",
    "import matplotlib.pyplot as plt\n"
   ]
  },
  {
   "cell_type": "markdown",
   "metadata": {},
   "source": [
    "## Preparing Datasets"
   ]
  },
  {
   "cell_type": "markdown",
   "metadata": {},
   "source": [
    "### Material footprint per capita "
   ]
  },
  {
   "cell_type": "code",
   "execution_count": 2,
   "metadata": {
    "ExecuteTime": {
     "end_time": "2021-06-19T05:03:01.780116Z",
     "start_time": "2021-06-19T05:03:01.730533Z"
    }
   },
   "outputs": [],
   "source": [
    "# Load original dataset which record the four types of material footprint separately\n",
    "mfpc = pd.read_csv('Material_footprint_per_capita.csv', skiprows=3, usecols=['COUNTRY NAME','YEAR','VALUE'])"
   ]
  },
  {
   "cell_type": "code",
   "execution_count": 3,
   "metadata": {
    "ExecuteTime": {
     "end_time": "2021-06-19T05:03:01.814921Z",
     "start_time": "2021-06-19T05:03:01.783245Z"
    }
   },
   "outputs": [],
   "source": [
    "# Select the last 20 years data, i.e., from 1998 to 2017\n",
    "mfpc = mfpc[mfpc.YEAR > 1997]"
   ]
  },
  {
   "cell_type": "code",
   "execution_count": 4,
   "metadata": {
    "ExecuteTime": {
     "end_time": "2021-06-19T05:03:01.853321Z",
     "start_time": "2021-06-19T05:03:01.818279Z"
    }
   },
   "outputs": [
    {
     "data": {
      "text/html": [
       "<div>\n",
       "<style scoped>\n",
       "    .dataframe tbody tr th:only-of-type {\n",
       "        vertical-align: middle;\n",
       "    }\n",
       "\n",
       "    .dataframe tbody tr th {\n",
       "        vertical-align: top;\n",
       "    }\n",
       "\n",
       "    .dataframe thead th {\n",
       "        text-align: right;\n",
       "    }\n",
       "</style>\n",
       "<table border=\"1\" class=\"dataframe\">\n",
       "  <thead>\n",
       "    <tr style=\"text-align: right;\">\n",
       "      <th></th>\n",
       "      <th>COUNTRY NAME</th>\n",
       "      <th>YEAR</th>\n",
       "      <th>VALUE</th>\n",
       "    </tr>\n",
       "  </thead>\n",
       "  <tbody>\n",
       "    <tr>\n",
       "      <th>32</th>\n",
       "      <td>Afghanistan</td>\n",
       "      <td>1998</td>\n",
       "      <td>0.78</td>\n",
       "    </tr>\n",
       "    <tr>\n",
       "      <th>33</th>\n",
       "      <td>Afghanistan</td>\n",
       "      <td>1998</td>\n",
       "      <td>0.03</td>\n",
       "    </tr>\n",
       "    <tr>\n",
       "      <th>34</th>\n",
       "      <td>Afghanistan</td>\n",
       "      <td>1998</td>\n",
       "      <td>0.02</td>\n",
       "    </tr>\n",
       "    <tr>\n",
       "      <th>35</th>\n",
       "      <td>Afghanistan</td>\n",
       "      <td>1998</td>\n",
       "      <td>0.13</td>\n",
       "    </tr>\n",
       "    <tr>\n",
       "      <th>36</th>\n",
       "      <td>Afghanistan</td>\n",
       "      <td>1999</td>\n",
       "      <td>0.67</td>\n",
       "    </tr>\n",
       "  </tbody>\n",
       "</table>\n",
       "</div>"
      ],
      "text/plain": [
       "   COUNTRY NAME  YEAR  VALUE\n",
       "32  Afghanistan  1998   0.78\n",
       "33  Afghanistan  1998   0.03\n",
       "34  Afghanistan  1998   0.02\n",
       "35  Afghanistan  1998   0.13\n",
       "36  Afghanistan  1999   0.67"
      ]
     },
     "execution_count": 4,
     "metadata": {},
     "output_type": "execute_result"
    }
   ],
   "source": [
    "mfpc.head()"
   ]
  },
  {
   "cell_type": "code",
   "execution_count": 5,
   "metadata": {
    "ExecuteTime": {
     "end_time": "2021-06-19T05:03:01.886872Z",
     "start_time": "2021-06-19T05:03:01.858827Z"
    }
   },
   "outputs": [
    {
     "name": "stdout",
     "output_type": "stream",
     "text": [
      "<class 'pandas.core.frame.DataFrame'>\n",
      "Int64Index: 13759 entries, 32 to 19262\n",
      "Data columns (total 3 columns):\n",
      " #   Column        Non-Null Count  Dtype  \n",
      "---  ------        --------------  -----  \n",
      " 0   COUNTRY NAME  13759 non-null  object \n",
      " 1   YEAR          13759 non-null  int64  \n",
      " 2   VALUE         13759 non-null  float64\n",
      "dtypes: float64(1), int64(1), object(1)\n",
      "memory usage: 430.0+ KB\n"
     ]
    }
   ],
   "source": [
    "mfpc.info()"
   ]
  },
  {
   "cell_type": "code",
   "execution_count": 6,
   "metadata": {
    "ExecuteTime": {
     "end_time": "2021-06-19T05:03:01.943379Z",
     "start_time": "2021-06-19T05:03:01.893158Z"
    }
   },
   "outputs": [
    {
     "data": {
      "text/html": [
       "<div>\n",
       "<style scoped>\n",
       "    .dataframe tbody tr th:only-of-type {\n",
       "        vertical-align: middle;\n",
       "    }\n",
       "\n",
       "    .dataframe tbody tr th {\n",
       "        vertical-align: top;\n",
       "    }\n",
       "\n",
       "    .dataframe thead th {\n",
       "        text-align: right;\n",
       "    }\n",
       "</style>\n",
       "<table border=\"1\" class=\"dataframe\">\n",
       "  <thead>\n",
       "    <tr style=\"text-align: right;\">\n",
       "      <th></th>\n",
       "      <th>COUNTRY NAME</th>\n",
       "      <th>YEAR</th>\n",
       "      <th>VALUE</th>\n",
       "    </tr>\n",
       "  </thead>\n",
       "  <tbody>\n",
       "    <tr>\n",
       "      <th>0</th>\n",
       "      <td>Afghanistan</td>\n",
       "      <td>1998</td>\n",
       "      <td>0.96</td>\n",
       "    </tr>\n",
       "    <tr>\n",
       "      <th>1</th>\n",
       "      <td>Afghanistan</td>\n",
       "      <td>1999</td>\n",
       "      <td>0.85</td>\n",
       "    </tr>\n",
       "    <tr>\n",
       "      <th>2</th>\n",
       "      <td>Afghanistan</td>\n",
       "      <td>2000</td>\n",
       "      <td>0.60</td>\n",
       "    </tr>\n",
       "    <tr>\n",
       "      <th>3</th>\n",
       "      <td>Afghanistan</td>\n",
       "      <td>2001</td>\n",
       "      <td>0.88</td>\n",
       "    </tr>\n",
       "    <tr>\n",
       "      <th>4</th>\n",
       "      <td>Afghanistan</td>\n",
       "      <td>2002</td>\n",
       "      <td>0.95</td>\n",
       "    </tr>\n",
       "  </tbody>\n",
       "</table>\n",
       "</div>"
      ],
      "text/plain": [
       "  COUNTRY NAME  YEAR  VALUE\n",
       "0  Afghanistan  1998   0.96\n",
       "1  Afghanistan  1999   0.85\n",
       "2  Afghanistan  2000   0.60\n",
       "3  Afghanistan  2001   0.88\n",
       "4  Afghanistan  2002   0.95"
      ]
     },
     "execution_count": 6,
     "metadata": {},
     "output_type": "execute_result"
    }
   ],
   "source": [
    "# Sum all the material footprints \n",
    "df_mfpc = mfpc.groupby(by=['COUNTRY NAME', 'YEAR']).sum().reset_index()\n",
    "df_mfpc.head()"
   ]
  },
  {
   "cell_type": "code",
   "execution_count": 7,
   "metadata": {
    "ExecuteTime": {
     "end_time": "2021-06-19T05:03:02.013606Z",
     "start_time": "2021-06-19T05:03:01.982785Z"
    }
   },
   "outputs": [
    {
     "data": {
      "text/plain": [
       "COUNTRY NAME    Guyana\n",
       "YEAR              2000\n",
       "VALUE           152.58\n",
       "Name: 1322, dtype: object"
      ]
     },
     "execution_count": 7,
     "metadata": {},
     "output_type": "execute_result"
    }
   ],
   "source": [
    "# Find out the max value\n",
    "df_mfpc.iloc[df_mfpc.VALUE.idxmax(),:]"
   ]
  },
  {
   "cell_type": "code",
   "execution_count": 8,
   "metadata": {
    "ExecuteTime": {
     "end_time": "2021-06-19T05:03:02.025042Z",
     "start_time": "2021-06-19T05:03:02.018195Z"
    }
   },
   "outputs": [],
   "source": [
    "# Define material footprint per capita index\n",
    "mfpc_max = np.max(df_mfpc.VALUE)\n",
    "df_mfpc['mfpc_index'] = (mfpc_max - df_mfpc.VALUE) / (mfpc_max)"
   ]
  },
  {
   "cell_type": "code",
   "execution_count": 9,
   "metadata": {
    "ExecuteTime": {
     "end_time": "2021-06-19T05:03:02.055105Z",
     "start_time": "2021-06-19T05:03:02.034916Z"
    }
   },
   "outputs": [
    {
     "data": {
      "text/html": [
       "<div>\n",
       "<style scoped>\n",
       "    .dataframe tbody tr th:only-of-type {\n",
       "        vertical-align: middle;\n",
       "    }\n",
       "\n",
       "    .dataframe tbody tr th {\n",
       "        vertical-align: top;\n",
       "    }\n",
       "\n",
       "    .dataframe thead th {\n",
       "        text-align: right;\n",
       "    }\n",
       "</style>\n",
       "<table border=\"1\" class=\"dataframe\">\n",
       "  <thead>\n",
       "    <tr style=\"text-align: right;\">\n",
       "      <th></th>\n",
       "      <th>country</th>\n",
       "      <th>year</th>\n",
       "      <th>material_footprint_per_capita</th>\n",
       "      <th>mfpc_index</th>\n",
       "    </tr>\n",
       "  </thead>\n",
       "  <tbody>\n",
       "    <tr>\n",
       "      <th>0</th>\n",
       "      <td>Afghanistan</td>\n",
       "      <td>1998</td>\n",
       "      <td>0.96</td>\n",
       "      <td>0.993708</td>\n",
       "    </tr>\n",
       "    <tr>\n",
       "      <th>1</th>\n",
       "      <td>Afghanistan</td>\n",
       "      <td>1999</td>\n",
       "      <td>0.85</td>\n",
       "      <td>0.994429</td>\n",
       "    </tr>\n",
       "    <tr>\n",
       "      <th>2</th>\n",
       "      <td>Afghanistan</td>\n",
       "      <td>2000</td>\n",
       "      <td>0.60</td>\n",
       "      <td>0.996068</td>\n",
       "    </tr>\n",
       "    <tr>\n",
       "      <th>3</th>\n",
       "      <td>Afghanistan</td>\n",
       "      <td>2001</td>\n",
       "      <td>0.88</td>\n",
       "      <td>0.994233</td>\n",
       "    </tr>\n",
       "    <tr>\n",
       "      <th>4</th>\n",
       "      <td>Afghanistan</td>\n",
       "      <td>2002</td>\n",
       "      <td>0.95</td>\n",
       "      <td>0.993774</td>\n",
       "    </tr>\n",
       "    <tr>\n",
       "      <th>...</th>\n",
       "      <td>...</td>\n",
       "      <td>...</td>\n",
       "      <td>...</td>\n",
       "      <td>...</td>\n",
       "    </tr>\n",
       "    <tr>\n",
       "      <th>3435</th>\n",
       "      <td>Zimbabwe</td>\n",
       "      <td>2013</td>\n",
       "      <td>3.30</td>\n",
       "      <td>0.978372</td>\n",
       "    </tr>\n",
       "    <tr>\n",
       "      <th>3436</th>\n",
       "      <td>Zimbabwe</td>\n",
       "      <td>2014</td>\n",
       "      <td>3.55</td>\n",
       "      <td>0.976734</td>\n",
       "    </tr>\n",
       "    <tr>\n",
       "      <th>3437</th>\n",
       "      <td>Zimbabwe</td>\n",
       "      <td>2015</td>\n",
       "      <td>3.38</td>\n",
       "      <td>0.977848</td>\n",
       "    </tr>\n",
       "    <tr>\n",
       "      <th>3438</th>\n",
       "      <td>Zimbabwe</td>\n",
       "      <td>2016</td>\n",
       "      <td>3.30</td>\n",
       "      <td>0.978372</td>\n",
       "    </tr>\n",
       "    <tr>\n",
       "      <th>3439</th>\n",
       "      <td>Zimbabwe</td>\n",
       "      <td>2017</td>\n",
       "      <td>3.23</td>\n",
       "      <td>0.978831</td>\n",
       "    </tr>\n",
       "  </tbody>\n",
       "</table>\n",
       "<p>3440 rows × 4 columns</p>\n",
       "</div>"
      ],
      "text/plain": [
       "          country  year  material_footprint_per_capita  mfpc_index\n",
       "0     Afghanistan  1998                           0.96    0.993708\n",
       "1     Afghanistan  1999                           0.85    0.994429\n",
       "2     Afghanistan  2000                           0.60    0.996068\n",
       "3     Afghanistan  2001                           0.88    0.994233\n",
       "4     Afghanistan  2002                           0.95    0.993774\n",
       "...           ...   ...                            ...         ...\n",
       "3435     Zimbabwe  2013                           3.30    0.978372\n",
       "3436     Zimbabwe  2014                           3.55    0.976734\n",
       "3437     Zimbabwe  2015                           3.38    0.977848\n",
       "3438     Zimbabwe  2016                           3.30    0.978372\n",
       "3439     Zimbabwe  2017                           3.23    0.978831\n",
       "\n",
       "[3440 rows x 4 columns]"
      ]
     },
     "execution_count": 9,
     "metadata": {},
     "output_type": "execute_result"
    }
   ],
   "source": [
    "df_mfpc.rename(mapper={'COUNTRY NAME': 'country','YEAR': 'year', 'VALUE':'material_footprint_per_capita'}, axis=1, inplace=True)\n",
    "df_mfpc"
   ]
  },
  {
   "cell_type": "markdown",
   "metadata": {},
   "source": [
    "### CO2 emission per capita"
   ]
  },
  {
   "cell_type": "code",
   "execution_count": 10,
   "metadata": {
    "ExecuteTime": {
     "end_time": "2021-06-19T05:03:20.378886Z",
     "start_time": "2021-06-19T05:03:02.058163Z"
    }
   },
   "outputs": [
    {
     "data": {
      "text/html": [
       "<div>\n",
       "<style scoped>\n",
       "    .dataframe tbody tr th:only-of-type {\n",
       "        vertical-align: middle;\n",
       "    }\n",
       "\n",
       "    .dataframe tbody tr th {\n",
       "        vertical-align: top;\n",
       "    }\n",
       "\n",
       "    .dataframe thead th {\n",
       "        text-align: right;\n",
       "    }\n",
       "</style>\n",
       "<table border=\"1\" class=\"dataframe\">\n",
       "  <thead>\n",
       "    <tr style=\"text-align: right;\">\n",
       "      <th></th>\n",
       "      <th>country</th>\n",
       "      <th>year</th>\n",
       "      <th>co2_per_capita</th>\n",
       "    </tr>\n",
       "  </thead>\n",
       "  <tbody>\n",
       "    <tr>\n",
       "      <th>0</th>\n",
       "      <td>Afghanistan</td>\n",
       "      <td>1998</td>\n",
       "      <td>0.052</td>\n",
       "    </tr>\n",
       "    <tr>\n",
       "      <th>1</th>\n",
       "      <td>Afghanistan</td>\n",
       "      <td>1999</td>\n",
       "      <td>0.040</td>\n",
       "    </tr>\n",
       "    <tr>\n",
       "      <th>2</th>\n",
       "      <td>Afghanistan</td>\n",
       "      <td>2000</td>\n",
       "      <td>0.036</td>\n",
       "    </tr>\n",
       "    <tr>\n",
       "      <th>3</th>\n",
       "      <td>Afghanistan</td>\n",
       "      <td>2001</td>\n",
       "      <td>0.037</td>\n",
       "    </tr>\n",
       "    <tr>\n",
       "      <th>4</th>\n",
       "      <td>Afghanistan</td>\n",
       "      <td>2002</td>\n",
       "      <td>0.047</td>\n",
       "    </tr>\n",
       "    <tr>\n",
       "      <th>...</th>\n",
       "      <td>...</td>\n",
       "      <td>...</td>\n",
       "      <td>...</td>\n",
       "    </tr>\n",
       "    <tr>\n",
       "      <th>4516</th>\n",
       "      <td>Zimbabwe</td>\n",
       "      <td>2013</td>\n",
       "      <td>0.870</td>\n",
       "    </tr>\n",
       "    <tr>\n",
       "      <th>4517</th>\n",
       "      <td>Zimbabwe</td>\n",
       "      <td>2014</td>\n",
       "      <td>0.881</td>\n",
       "    </tr>\n",
       "    <tr>\n",
       "      <th>4518</th>\n",
       "      <td>Zimbabwe</td>\n",
       "      <td>2015</td>\n",
       "      <td>0.881</td>\n",
       "    </tr>\n",
       "    <tr>\n",
       "      <th>4519</th>\n",
       "      <td>Zimbabwe</td>\n",
       "      <td>2016</td>\n",
       "      <td>0.771</td>\n",
       "    </tr>\n",
       "    <tr>\n",
       "      <th>4520</th>\n",
       "      <td>Zimbabwe</td>\n",
       "      <td>2017</td>\n",
       "      <td>0.720</td>\n",
       "    </tr>\n",
       "  </tbody>\n",
       "</table>\n",
       "<p>4521 rows × 3 columns</p>\n",
       "</div>"
      ],
      "text/plain": [
       "          country  year  co2_per_capita\n",
       "0     Afghanistan  1998           0.052\n",
       "1     Afghanistan  1999           0.040\n",
       "2     Afghanistan  2000           0.036\n",
       "3     Afghanistan  2001           0.037\n",
       "4     Afghanistan  2002           0.047\n",
       "...           ...   ...             ...\n",
       "4516     Zimbabwe  2013           0.870\n",
       "4517     Zimbabwe  2014           0.881\n",
       "4518     Zimbabwe  2015           0.881\n",
       "4519     Zimbabwe  2016           0.771\n",
       "4520     Zimbabwe  2017           0.720\n",
       "\n",
       "[4521 rows x 3 columns]"
      ]
     },
     "execution_count": 10,
     "metadata": {},
     "output_type": "execute_result"
    }
   ],
   "source": [
    "co2pc = pd.read_excel('owid-co2-data.xlsx', usecols=['country','year','co2_per_capita'])\n",
    "df_co2pc = co2pc[(co2pc.year >= 1998) & (co2pc.year <= 2017)].reset_index(drop=True)\n",
    "df_co2pc"
   ]
  },
  {
   "cell_type": "code",
   "execution_count": 11,
   "metadata": {
    "ExecuteTime": {
     "end_time": "2021-06-19T05:03:20.420683Z",
     "start_time": "2021-06-19T05:03:20.392048Z"
    }
   },
   "outputs": [
    {
     "name": "stdout",
     "output_type": "stream",
     "text": [
      "<class 'pandas.core.frame.DataFrame'>\n",
      "RangeIndex: 4521 entries, 0 to 4520\n",
      "Data columns (total 3 columns):\n",
      " #   Column          Non-Null Count  Dtype  \n",
      "---  ------          --------------  -----  \n",
      " 0   country         4521 non-null   object \n",
      " 1   year            4521 non-null   int64  \n",
      " 2   co2_per_capita  4396 non-null   float64\n",
      "dtypes: float64(1), int64(1), object(1)\n",
      "memory usage: 106.1+ KB\n"
     ]
    }
   ],
   "source": [
    "df_co2pc.info()"
   ]
  },
  {
   "cell_type": "code",
   "execution_count": 12,
   "metadata": {
    "ExecuteTime": {
     "end_time": "2021-06-19T05:03:20.445196Z",
     "start_time": "2021-06-19T05:03:20.423697Z"
    }
   },
   "outputs": [
    {
     "data": {
      "text/plain": [
       "country            Qatar\n",
       "year                2001\n",
       "co2_per_capita    67.015\n",
       "Name: 3311, dtype: object"
      ]
     },
     "execution_count": 12,
     "metadata": {},
     "output_type": "execute_result"
    }
   ],
   "source": [
    "# Find out the max value\n",
    "df_co2pc.iloc[df_co2pc.co2_per_capita.idxmax(),:]"
   ]
  },
  {
   "cell_type": "code",
   "execution_count": 13,
   "metadata": {
    "ExecuteTime": {
     "end_time": "2021-06-19T05:03:20.478899Z",
     "start_time": "2021-06-19T05:03:20.456874Z"
    }
   },
   "outputs": [
    {
     "data": {
      "text/html": [
       "<div>\n",
       "<style scoped>\n",
       "    .dataframe tbody tr th:only-of-type {\n",
       "        vertical-align: middle;\n",
       "    }\n",
       "\n",
       "    .dataframe tbody tr th {\n",
       "        vertical-align: top;\n",
       "    }\n",
       "\n",
       "    .dataframe thead th {\n",
       "        text-align: right;\n",
       "    }\n",
       "</style>\n",
       "<table border=\"1\" class=\"dataframe\">\n",
       "  <thead>\n",
       "    <tr style=\"text-align: right;\">\n",
       "      <th></th>\n",
       "      <th>country</th>\n",
       "      <th>year</th>\n",
       "      <th>co2_per_capita</th>\n",
       "      <th>co2pc_index</th>\n",
       "    </tr>\n",
       "  </thead>\n",
       "  <tbody>\n",
       "    <tr>\n",
       "      <th>0</th>\n",
       "      <td>Afghanistan</td>\n",
       "      <td>1998</td>\n",
       "      <td>0.052</td>\n",
       "      <td>0.999224</td>\n",
       "    </tr>\n",
       "    <tr>\n",
       "      <th>1</th>\n",
       "      <td>Afghanistan</td>\n",
       "      <td>1999</td>\n",
       "      <td>0.040</td>\n",
       "      <td>0.999403</td>\n",
       "    </tr>\n",
       "    <tr>\n",
       "      <th>2</th>\n",
       "      <td>Afghanistan</td>\n",
       "      <td>2000</td>\n",
       "      <td>0.036</td>\n",
       "      <td>0.999463</td>\n",
       "    </tr>\n",
       "    <tr>\n",
       "      <th>3</th>\n",
       "      <td>Afghanistan</td>\n",
       "      <td>2001</td>\n",
       "      <td>0.037</td>\n",
       "      <td>0.999448</td>\n",
       "    </tr>\n",
       "    <tr>\n",
       "      <th>4</th>\n",
       "      <td>Afghanistan</td>\n",
       "      <td>2002</td>\n",
       "      <td>0.047</td>\n",
       "      <td>0.999299</td>\n",
       "    </tr>\n",
       "  </tbody>\n",
       "</table>\n",
       "</div>"
      ],
      "text/plain": [
       "       country  year  co2_per_capita  co2pc_index\n",
       "0  Afghanistan  1998           0.052     0.999224\n",
       "1  Afghanistan  1999           0.040     0.999403\n",
       "2  Afghanistan  2000           0.036     0.999463\n",
       "3  Afghanistan  2001           0.037     0.999448\n",
       "4  Afghanistan  2002           0.047     0.999299"
      ]
     },
     "execution_count": 13,
     "metadata": {},
     "output_type": "execute_result"
    }
   ],
   "source": [
    "# Define the co2 emission per capita index\n",
    "co2pc_max = np.max(df_co2pc.co2_per_capita)\n",
    "df_co2pc.loc[:,'co2pc_index'] = (co2pc_max - df_co2pc['co2_per_capita']) / co2pc_max\n",
    "df_co2pc.head()"
   ]
  },
  {
   "cell_type": "markdown",
   "metadata": {},
   "source": [
    "### Human development index"
   ]
  },
  {
   "cell_type": "code",
   "execution_count": 14,
   "metadata": {
    "ExecuteTime": {
     "end_time": "2021-06-19T05:03:20.565424Z",
     "start_time": "2021-06-19T05:03:20.484118Z"
    }
   },
   "outputs": [
    {
     "data": {
      "text/html": [
       "<div>\n",
       "<style scoped>\n",
       "    .dataframe tbody tr th:only-of-type {\n",
       "        vertical-align: middle;\n",
       "    }\n",
       "\n",
       "    .dataframe tbody tr th {\n",
       "        vertical-align: top;\n",
       "    }\n",
       "\n",
       "    .dataframe thead th {\n",
       "        text-align: right;\n",
       "    }\n",
       "</style>\n",
       "<table border=\"1\" class=\"dataframe\">\n",
       "  <thead>\n",
       "    <tr style=\"text-align: right;\">\n",
       "      <th></th>\n",
       "      <th>HDI Rank</th>\n",
       "      <th>Country</th>\n",
       "      <th>1990</th>\n",
       "      <th>1991</th>\n",
       "      <th>1992</th>\n",
       "      <th>1993</th>\n",
       "      <th>1994</th>\n",
       "      <th>1995</th>\n",
       "      <th>1996</th>\n",
       "      <th>1997</th>\n",
       "      <th>...</th>\n",
       "      <th>2010</th>\n",
       "      <th>2011</th>\n",
       "      <th>2012</th>\n",
       "      <th>2013</th>\n",
       "      <th>2014</th>\n",
       "      <th>2015</th>\n",
       "      <th>2016</th>\n",
       "      <th>2017</th>\n",
       "      <th>2018</th>\n",
       "      <th>2019</th>\n",
       "    </tr>\n",
       "  </thead>\n",
       "  <tbody>\n",
       "    <tr>\n",
       "      <th>0</th>\n",
       "      <td>169</td>\n",
       "      <td>Afghanistan</td>\n",
       "      <td>0.302</td>\n",
       "      <td>0.307</td>\n",
       "      <td>0.316</td>\n",
       "      <td>0.312</td>\n",
       "      <td>0.307</td>\n",
       "      <td>0.331</td>\n",
       "      <td>0.335</td>\n",
       "      <td>0.339</td>\n",
       "      <td>...</td>\n",
       "      <td>0.472</td>\n",
       "      <td>0.477</td>\n",
       "      <td>0.489</td>\n",
       "      <td>0.496</td>\n",
       "      <td>0.500</td>\n",
       "      <td>0.500</td>\n",
       "      <td>0.502</td>\n",
       "      <td>0.506</td>\n",
       "      <td>0.509</td>\n",
       "      <td>0.511</td>\n",
       "    </tr>\n",
       "    <tr>\n",
       "      <th>1</th>\n",
       "      <td>69</td>\n",
       "      <td>Albania</td>\n",
       "      <td>0.650</td>\n",
       "      <td>0.631</td>\n",
       "      <td>0.615</td>\n",
       "      <td>0.618</td>\n",
       "      <td>0.624</td>\n",
       "      <td>0.637</td>\n",
       "      <td>0.646</td>\n",
       "      <td>0.645</td>\n",
       "      <td>...</td>\n",
       "      <td>0.745</td>\n",
       "      <td>0.764</td>\n",
       "      <td>0.775</td>\n",
       "      <td>0.782</td>\n",
       "      <td>0.787</td>\n",
       "      <td>0.788</td>\n",
       "      <td>0.788</td>\n",
       "      <td>0.790</td>\n",
       "      <td>0.792</td>\n",
       "      <td>0.795</td>\n",
       "    </tr>\n",
       "    <tr>\n",
       "      <th>2</th>\n",
       "      <td>91</td>\n",
       "      <td>Algeria</td>\n",
       "      <td>0.572</td>\n",
       "      <td>0.576</td>\n",
       "      <td>0.582</td>\n",
       "      <td>0.586</td>\n",
       "      <td>0.590</td>\n",
       "      <td>0.595</td>\n",
       "      <td>0.602</td>\n",
       "      <td>0.611</td>\n",
       "      <td>...</td>\n",
       "      <td>0.721</td>\n",
       "      <td>0.728</td>\n",
       "      <td>0.728</td>\n",
       "      <td>0.729</td>\n",
       "      <td>0.736</td>\n",
       "      <td>0.740</td>\n",
       "      <td>0.743</td>\n",
       "      <td>0.745</td>\n",
       "      <td>0.746</td>\n",
       "      <td>0.748</td>\n",
       "    </tr>\n",
       "    <tr>\n",
       "      <th>3</th>\n",
       "      <td>36</td>\n",
       "      <td>Andorra</td>\n",
       "      <td>NaN</td>\n",
       "      <td>NaN</td>\n",
       "      <td>NaN</td>\n",
       "      <td>NaN</td>\n",
       "      <td>NaN</td>\n",
       "      <td>NaN</td>\n",
       "      <td>NaN</td>\n",
       "      <td>NaN</td>\n",
       "      <td>...</td>\n",
       "      <td>0.837</td>\n",
       "      <td>0.836</td>\n",
       "      <td>0.858</td>\n",
       "      <td>0.856</td>\n",
       "      <td>0.863</td>\n",
       "      <td>0.862</td>\n",
       "      <td>0.866</td>\n",
       "      <td>0.863</td>\n",
       "      <td>0.867</td>\n",
       "      <td>0.868</td>\n",
       "    </tr>\n",
       "    <tr>\n",
       "      <th>4</th>\n",
       "      <td>148</td>\n",
       "      <td>Angola</td>\n",
       "      <td>NaN</td>\n",
       "      <td>NaN</td>\n",
       "      <td>NaN</td>\n",
       "      <td>NaN</td>\n",
       "      <td>NaN</td>\n",
       "      <td>NaN</td>\n",
       "      <td>NaN</td>\n",
       "      <td>NaN</td>\n",
       "      <td>...</td>\n",
       "      <td>0.517</td>\n",
       "      <td>0.533</td>\n",
       "      <td>0.544</td>\n",
       "      <td>0.555</td>\n",
       "      <td>0.565</td>\n",
       "      <td>0.572</td>\n",
       "      <td>0.578</td>\n",
       "      <td>0.582</td>\n",
       "      <td>0.582</td>\n",
       "      <td>0.581</td>\n",
       "    </tr>\n",
       "    <tr>\n",
       "      <th>...</th>\n",
       "      <td>...</td>\n",
       "      <td>...</td>\n",
       "      <td>...</td>\n",
       "      <td>...</td>\n",
       "      <td>...</td>\n",
       "      <td>...</td>\n",
       "      <td>...</td>\n",
       "      <td>...</td>\n",
       "      <td>...</td>\n",
       "      <td>...</td>\n",
       "      <td>...</td>\n",
       "      <td>...</td>\n",
       "      <td>...</td>\n",
       "      <td>...</td>\n",
       "      <td>...</td>\n",
       "      <td>...</td>\n",
       "      <td>...</td>\n",
       "      <td>...</td>\n",
       "      <td>...</td>\n",
       "      <td>...</td>\n",
       "      <td>...</td>\n",
       "    </tr>\n",
       "    <tr>\n",
       "      <th>202</th>\n",
       "      <td></td>\n",
       "      <td>Least Developed Countries</td>\n",
       "      <td>0.350</td>\n",
       "      <td>0.353</td>\n",
       "      <td>0.354</td>\n",
       "      <td>0.358</td>\n",
       "      <td>0.358</td>\n",
       "      <td>0.366</td>\n",
       "      <td>0.374</td>\n",
       "      <td>0.381</td>\n",
       "      <td>...</td>\n",
       "      <td>0.485</td>\n",
       "      <td>0.493</td>\n",
       "      <td>0.499</td>\n",
       "      <td>0.504</td>\n",
       "      <td>0.510</td>\n",
       "      <td>0.516</td>\n",
       "      <td>0.520</td>\n",
       "      <td>0.525</td>\n",
       "      <td>0.528</td>\n",
       "      <td>0.538</td>\n",
       "    </tr>\n",
       "    <tr>\n",
       "      <th>203</th>\n",
       "      <td></td>\n",
       "      <td>Small Island Developing States</td>\n",
       "      <td>0.595</td>\n",
       "      <td>0.598</td>\n",
       "      <td>0.603</td>\n",
       "      <td>0.608</td>\n",
       "      <td>0.612</td>\n",
       "      <td>0.618</td>\n",
       "      <td>0.624</td>\n",
       "      <td>0.629</td>\n",
       "      <td>...</td>\n",
       "      <td>0.702</td>\n",
       "      <td>0.706</td>\n",
       "      <td>0.704</td>\n",
       "      <td>0.708</td>\n",
       "      <td>0.712</td>\n",
       "      <td>0.717</td>\n",
       "      <td>0.719</td>\n",
       "      <td>0.722</td>\n",
       "      <td>0.723</td>\n",
       "      <td>0.728</td>\n",
       "    </tr>\n",
       "    <tr>\n",
       "      <th>204</th>\n",
       "      <td></td>\n",
       "      <td>Organization for Economic Co-operation and Dev...</td>\n",
       "      <td>0.785</td>\n",
       "      <td>0.790</td>\n",
       "      <td>0.788</td>\n",
       "      <td>0.800</td>\n",
       "      <td>0.807</td>\n",
       "      <td>0.812</td>\n",
       "      <td>0.817</td>\n",
       "      <td>0.817</td>\n",
       "      <td>...</td>\n",
       "      <td>0.873</td>\n",
       "      <td>0.877</td>\n",
       "      <td>0.879</td>\n",
       "      <td>0.883</td>\n",
       "      <td>0.886</td>\n",
       "      <td>0.889</td>\n",
       "      <td>0.892</td>\n",
       "      <td>0.894</td>\n",
       "      <td>0.895</td>\n",
       "      <td>0.900</td>\n",
       "    </tr>\n",
       "    <tr>\n",
       "      <th>205</th>\n",
       "      <td></td>\n",
       "      <td>World</td>\n",
       "      <td>0.598</td>\n",
       "      <td>0.601</td>\n",
       "      <td>0.601</td>\n",
       "      <td>0.608</td>\n",
       "      <td>0.611</td>\n",
       "      <td>0.617</td>\n",
       "      <td>0.622</td>\n",
       "      <td>0.624</td>\n",
       "      <td>...</td>\n",
       "      <td>0.697</td>\n",
       "      <td>0.703</td>\n",
       "      <td>0.708</td>\n",
       "      <td>0.713</td>\n",
       "      <td>0.718</td>\n",
       "      <td>0.722</td>\n",
       "      <td>0.727</td>\n",
       "      <td>0.729</td>\n",
       "      <td>0.731</td>\n",
       "      <td>0.737</td>\n",
       "    </tr>\n",
       "    <tr>\n",
       "      <th>206</th>\n",
       "      <td>NaN</td>\n",
       "      <td>NaN</td>\n",
       "      <td>NaN</td>\n",
       "      <td>NaN</td>\n",
       "      <td>NaN</td>\n",
       "      <td>NaN</td>\n",
       "      <td>NaN</td>\n",
       "      <td>NaN</td>\n",
       "      <td>NaN</td>\n",
       "      <td>NaN</td>\n",
       "      <td>...</td>\n",
       "      <td>NaN</td>\n",
       "      <td>NaN</td>\n",
       "      <td>NaN</td>\n",
       "      <td>NaN</td>\n",
       "      <td>NaN</td>\n",
       "      <td>NaN</td>\n",
       "      <td>NaN</td>\n",
       "      <td>NaN</td>\n",
       "      <td>NaN</td>\n",
       "      <td>NaN</td>\n",
       "    </tr>\n",
       "  </tbody>\n",
       "</table>\n",
       "<p>207 rows × 32 columns</p>\n",
       "</div>"
      ],
      "text/plain": [
       "    HDI Rank                                            Country   1990   1991  \\\n",
       "0        169                                        Afghanistan  0.302  0.307   \n",
       "1         69                                            Albania  0.650  0.631   \n",
       "2         91                                            Algeria  0.572  0.576   \n",
       "3         36                                            Andorra    NaN    NaN   \n",
       "4        148                                             Angola    NaN    NaN   \n",
       "..       ...                                                ...    ...    ...   \n",
       "202                                   Least Developed Countries  0.350  0.353   \n",
       "203                              Small Island Developing States  0.595  0.598   \n",
       "204           Organization for Economic Co-operation and Dev...  0.785  0.790   \n",
       "205                                                       World  0.598  0.601   \n",
       "206      NaN                                                NaN    NaN    NaN   \n",
       "\n",
       "      1992   1993   1994   1995   1996   1997  ...   2010   2011   2012  \\\n",
       "0    0.316  0.312  0.307  0.331  0.335  0.339  ...  0.472  0.477  0.489   \n",
       "1    0.615  0.618  0.624  0.637  0.646  0.645  ...  0.745  0.764  0.775   \n",
       "2    0.582  0.586  0.590  0.595  0.602  0.611  ...  0.721  0.728  0.728   \n",
       "3      NaN    NaN    NaN    NaN    NaN    NaN  ...  0.837  0.836  0.858   \n",
       "4      NaN    NaN    NaN    NaN    NaN    NaN  ...  0.517  0.533  0.544   \n",
       "..     ...    ...    ...    ...    ...    ...  ...    ...    ...    ...   \n",
       "202  0.354  0.358  0.358  0.366  0.374  0.381  ...  0.485  0.493  0.499   \n",
       "203  0.603  0.608  0.612  0.618  0.624  0.629  ...  0.702  0.706  0.704   \n",
       "204  0.788  0.800  0.807  0.812  0.817  0.817  ...  0.873  0.877  0.879   \n",
       "205  0.601  0.608  0.611  0.617  0.622  0.624  ...  0.697  0.703  0.708   \n",
       "206    NaN    NaN    NaN    NaN    NaN    NaN  ...    NaN    NaN    NaN   \n",
       "\n",
       "      2013   2014   2015   2016   2017   2018   2019  \n",
       "0    0.496  0.500  0.500  0.502  0.506  0.509  0.511  \n",
       "1    0.782  0.787  0.788  0.788  0.790  0.792  0.795  \n",
       "2    0.729  0.736  0.740  0.743  0.745  0.746  0.748  \n",
       "3    0.856  0.863  0.862  0.866  0.863  0.867  0.868  \n",
       "4    0.555  0.565  0.572  0.578  0.582  0.582  0.581  \n",
       "..     ...    ...    ...    ...    ...    ...    ...  \n",
       "202  0.504  0.510  0.516  0.520  0.525  0.528  0.538  \n",
       "203  0.708  0.712  0.717  0.719  0.722  0.723  0.728  \n",
       "204  0.883  0.886  0.889  0.892  0.894  0.895  0.900  \n",
       "205  0.713  0.718  0.722  0.727  0.729  0.731  0.737  \n",
       "206    NaN    NaN    NaN    NaN    NaN    NaN    NaN  \n",
       "\n",
       "[207 rows x 32 columns]"
      ]
     },
     "execution_count": 14,
     "metadata": {},
     "output_type": "execute_result"
    }
   ],
   "source": [
    "hdi = pd.read_csv('Human Development Index.csv', na_values='..')\n",
    "\n",
    "hdi.dropna(axis=1, how='all',inplace=True)\n",
    "hdi"
   ]
  },
  {
   "cell_type": "code",
   "execution_count": 15,
   "metadata": {
    "ExecuteTime": {
     "end_time": "2021-06-19T05:03:20.752400Z",
     "start_time": "2021-06-19T05:03:20.708799Z"
    }
   },
   "outputs": [
    {
     "data": {
      "text/html": [
       "<div>\n",
       "<style scoped>\n",
       "    .dataframe tbody tr th:only-of-type {\n",
       "        vertical-align: middle;\n",
       "    }\n",
       "\n",
       "    .dataframe tbody tr th {\n",
       "        vertical-align: top;\n",
       "    }\n",
       "\n",
       "    .dataframe thead th {\n",
       "        text-align: right;\n",
       "    }\n",
       "</style>\n",
       "<table border=\"1\" class=\"dataframe\">\n",
       "  <thead>\n",
       "    <tr style=\"text-align: right;\">\n",
       "      <th></th>\n",
       "      <th>country</th>\n",
       "      <th>year</th>\n",
       "      <th>hdi</th>\n",
       "    </tr>\n",
       "  </thead>\n",
       "  <tbody>\n",
       "    <tr>\n",
       "      <th>0</th>\n",
       "      <td>Afghanistan</td>\n",
       "      <td>1998</td>\n",
       "      <td>0.344</td>\n",
       "    </tr>\n",
       "    <tr>\n",
       "      <th>1</th>\n",
       "      <td>Afghanistan</td>\n",
       "      <td>1999</td>\n",
       "      <td>0.348</td>\n",
       "    </tr>\n",
       "    <tr>\n",
       "      <th>2</th>\n",
       "      <td>Afghanistan</td>\n",
       "      <td>2000</td>\n",
       "      <td>0.350</td>\n",
       "    </tr>\n",
       "    <tr>\n",
       "      <th>3</th>\n",
       "      <td>Afghanistan</td>\n",
       "      <td>2001</td>\n",
       "      <td>0.353</td>\n",
       "    </tr>\n",
       "    <tr>\n",
       "      <th>4</th>\n",
       "      <td>Afghanistan</td>\n",
       "      <td>2002</td>\n",
       "      <td>0.384</td>\n",
       "    </tr>\n",
       "    <tr>\n",
       "      <th>...</th>\n",
       "      <td>...</td>\n",
       "      <td>...</td>\n",
       "      <td>...</td>\n",
       "    </tr>\n",
       "    <tr>\n",
       "      <th>3775</th>\n",
       "      <td>Zimbabwe</td>\n",
       "      <td>2013</td>\n",
       "      <td>0.537</td>\n",
       "    </tr>\n",
       "    <tr>\n",
       "      <th>3776</th>\n",
       "      <td>Zimbabwe</td>\n",
       "      <td>2014</td>\n",
       "      <td>0.547</td>\n",
       "    </tr>\n",
       "    <tr>\n",
       "      <th>3777</th>\n",
       "      <td>Zimbabwe</td>\n",
       "      <td>2015</td>\n",
       "      <td>0.553</td>\n",
       "    </tr>\n",
       "    <tr>\n",
       "      <th>3778</th>\n",
       "      <td>Zimbabwe</td>\n",
       "      <td>2016</td>\n",
       "      <td>0.558</td>\n",
       "    </tr>\n",
       "    <tr>\n",
       "      <th>3779</th>\n",
       "      <td>Zimbabwe</td>\n",
       "      <td>2017</td>\n",
       "      <td>0.563</td>\n",
       "    </tr>\n",
       "  </tbody>\n",
       "</table>\n",
       "<p>3780 rows × 3 columns</p>\n",
       "</div>"
      ],
      "text/plain": [
       "           country  year    hdi\n",
       "0      Afghanistan  1998  0.344\n",
       "1      Afghanistan  1999  0.348\n",
       "2      Afghanistan  2000  0.350\n",
       "3      Afghanistan  2001  0.353\n",
       "4      Afghanistan  2002  0.384\n",
       "...            ...   ...    ...\n",
       "3775      Zimbabwe  2013  0.537\n",
       "3776      Zimbabwe  2014  0.547\n",
       "3777      Zimbabwe  2015  0.553\n",
       "3778      Zimbabwe  2016  0.558\n",
       "3779      Zimbabwe  2017  0.563\n",
       "\n",
       "[3780 rows x 3 columns]"
      ]
     },
     "execution_count": 15,
     "metadata": {},
     "output_type": "execute_result"
    }
   ],
   "source": [
    "hdi = hdi.drop(hdi.loc[:, '1990':'1997'].columns, axis=1).iloc[:189, 1:22]\n",
    "\n",
    "df_hdi = pd.melt(hdi, id_vars=['Country']).sort_values(by=['Country','variable']).reset_index(drop=True)\n",
    "\n",
    "df_hdi.rename(mapper={'Country':'country', 'variable':'year', 'value':'hdi'}, axis=1, inplace=True)\n",
    "df_hdi"
   ]
  },
  {
   "cell_type": "code",
   "execution_count": 16,
   "metadata": {
    "ExecuteTime": {
     "end_time": "2021-06-19T05:03:20.768442Z",
     "start_time": "2021-06-19T05:03:20.759363Z"
    }
   },
   "outputs": [
    {
     "data": {
      "text/plain": [
       "' Afghanistan'"
      ]
     },
     "execution_count": 16,
     "metadata": {},
     "output_type": "execute_result"
    }
   ],
   "source": [
    "# Country name issue\n",
    "str(df_hdi.iloc[0, 0])"
   ]
  },
  {
   "cell_type": "code",
   "execution_count": 17,
   "metadata": {
    "ExecuteTime": {
     "end_time": "2021-06-19T05:03:20.803764Z",
     "start_time": "2021-06-19T05:03:20.775534Z"
    }
   },
   "outputs": [
    {
     "data": {
      "text/plain": [
       "'Afghanistan'"
      ]
     },
     "execution_count": 17,
     "metadata": {},
     "output_type": "execute_result"
    }
   ],
   "source": [
    "df_hdi.iloc[:, 0] = df_hdi.iloc[:, 0].apply(lambda x: x.strip(' '))\n",
    "str(df_hdi.iloc[0, 0])"
   ]
  },
  {
   "cell_type": "code",
   "execution_count": 18,
   "metadata": {
    "ExecuteTime": {
     "end_time": "2021-06-19T05:03:20.838069Z",
     "start_time": "2021-06-19T05:03:20.811587Z"
    }
   },
   "outputs": [
    {
     "name": "stdout",
     "output_type": "stream",
     "text": [
      "<class 'pandas.core.frame.DataFrame'>\n",
      "RangeIndex: 3780 entries, 0 to 3779\n",
      "Data columns (total 3 columns):\n",
      " #   Column   Non-Null Count  Dtype  \n",
      "---  ------   --------------  -----  \n",
      " 0   country  3780 non-null   object \n",
      " 1   year     3780 non-null   object \n",
      " 2   hdi      3610 non-null   float64\n",
      "dtypes: float64(1), object(2)\n",
      "memory usage: 88.7+ KB\n"
     ]
    }
   ],
   "source": [
    "df_hdi.info()"
   ]
  },
  {
   "cell_type": "code",
   "execution_count": 19,
   "metadata": {
    "ExecuteTime": {
     "end_time": "2021-06-19T05:03:20.855235Z",
     "start_time": "2021-06-19T05:03:20.840706Z"
    }
   },
   "outputs": [
    {
     "data": {
      "text/plain": [
       "dtype('int64')"
      ]
     },
     "execution_count": 19,
     "metadata": {},
     "output_type": "execute_result"
    }
   ],
   "source": [
    "df_hdi = df_hdi.astype({'year':'int'})\n",
    "df_hdi.year.dtype"
   ]
  },
  {
   "cell_type": "markdown",
   "metadata": {},
   "source": [
    "### The final dataset"
   ]
  },
  {
   "cell_type": "code",
   "execution_count": 20,
   "metadata": {
    "ExecuteTime": {
     "end_time": "2021-06-19T05:03:20.884396Z",
     "start_time": "2021-06-19T05:03:20.858733Z"
    }
   },
   "outputs": [],
   "source": [
    "df = df_hdi.merge(df_mfpc, how='inner', on=['country', 'year']).merge(df_co2pc, how='inner', on=['country', 'year'])"
   ]
  },
  {
   "cell_type": "code",
   "execution_count": 21,
   "metadata": {
    "ExecuteTime": {
     "end_time": "2021-06-19T05:03:20.901228Z",
     "start_time": "2021-06-19T05:03:20.886845Z"
    }
   },
   "outputs": [
    {
     "data": {
      "text/html": [
       "<div>\n",
       "<style scoped>\n",
       "    .dataframe tbody tr th:only-of-type {\n",
       "        vertical-align: middle;\n",
       "    }\n",
       "\n",
       "    .dataframe tbody tr th {\n",
       "        vertical-align: top;\n",
       "    }\n",
       "\n",
       "    .dataframe thead th {\n",
       "        text-align: right;\n",
       "    }\n",
       "</style>\n",
       "<table border=\"1\" class=\"dataframe\">\n",
       "  <thead>\n",
       "    <tr style=\"text-align: right;\">\n",
       "      <th></th>\n",
       "      <th>country</th>\n",
       "      <th>year</th>\n",
       "      <th>hdi</th>\n",
       "      <th>material_footprint_per_capita</th>\n",
       "      <th>mfpc_index</th>\n",
       "      <th>co2_per_capita</th>\n",
       "      <th>co2pc_index</th>\n",
       "    </tr>\n",
       "  </thead>\n",
       "  <tbody>\n",
       "    <tr>\n",
       "      <th>0</th>\n",
       "      <td>Afghanistan</td>\n",
       "      <td>1998</td>\n",
       "      <td>0.344</td>\n",
       "      <td>0.96</td>\n",
       "      <td>0.993708</td>\n",
       "      <td>0.052</td>\n",
       "      <td>0.999224</td>\n",
       "    </tr>\n",
       "    <tr>\n",
       "      <th>1</th>\n",
       "      <td>Afghanistan</td>\n",
       "      <td>1999</td>\n",
       "      <td>0.348</td>\n",
       "      <td>0.85</td>\n",
       "      <td>0.994429</td>\n",
       "      <td>0.040</td>\n",
       "      <td>0.999403</td>\n",
       "    </tr>\n",
       "    <tr>\n",
       "      <th>2</th>\n",
       "      <td>Afghanistan</td>\n",
       "      <td>2000</td>\n",
       "      <td>0.350</td>\n",
       "      <td>0.60</td>\n",
       "      <td>0.996068</td>\n",
       "      <td>0.036</td>\n",
       "      <td>0.999463</td>\n",
       "    </tr>\n",
       "    <tr>\n",
       "      <th>3</th>\n",
       "      <td>Afghanistan</td>\n",
       "      <td>2001</td>\n",
       "      <td>0.353</td>\n",
       "      <td>0.88</td>\n",
       "      <td>0.994233</td>\n",
       "      <td>0.037</td>\n",
       "      <td>0.999448</td>\n",
       "    </tr>\n",
       "    <tr>\n",
       "      <th>4</th>\n",
       "      <td>Afghanistan</td>\n",
       "      <td>2002</td>\n",
       "      <td>0.384</td>\n",
       "      <td>0.95</td>\n",
       "      <td>0.993774</td>\n",
       "      <td>0.047</td>\n",
       "      <td>0.999299</td>\n",
       "    </tr>\n",
       "  </tbody>\n",
       "</table>\n",
       "</div>"
      ],
      "text/plain": [
       "       country  year    hdi  material_footprint_per_capita  mfpc_index  \\\n",
       "0  Afghanistan  1998  0.344                           0.96    0.993708   \n",
       "1  Afghanistan  1999  0.348                           0.85    0.994429   \n",
       "2  Afghanistan  2000  0.350                           0.60    0.996068   \n",
       "3  Afghanistan  2001  0.353                           0.88    0.994233   \n",
       "4  Afghanistan  2002  0.384                           0.95    0.993774   \n",
       "\n",
       "   co2_per_capita  co2pc_index  \n",
       "0           0.052     0.999224  \n",
       "1           0.040     0.999403  \n",
       "2           0.036     0.999463  \n",
       "3           0.037     0.999448  \n",
       "4           0.047     0.999299  "
      ]
     },
     "execution_count": 21,
     "metadata": {},
     "output_type": "execute_result"
    }
   ],
   "source": [
    "df.head()"
   ]
  },
  {
   "cell_type": "code",
   "execution_count": 22,
   "metadata": {
    "ExecuteTime": {
     "end_time": "2021-06-19T05:03:20.961495Z",
     "start_time": "2021-06-19T05:03:20.921068Z"
    }
   },
   "outputs": [
    {
     "data": {
      "text/html": [
       "<div>\n",
       "<style scoped>\n",
       "    .dataframe tbody tr th:only-of-type {\n",
       "        vertical-align: middle;\n",
       "    }\n",
       "\n",
       "    .dataframe tbody tr th {\n",
       "        vertical-align: top;\n",
       "    }\n",
       "\n",
       "    .dataframe thead th {\n",
       "        text-align: right;\n",
       "    }\n",
       "</style>\n",
       "<table border=\"1\" class=\"dataframe\">\n",
       "  <thead>\n",
       "    <tr style=\"text-align: right;\">\n",
       "      <th></th>\n",
       "      <th>country</th>\n",
       "      <th>year</th>\n",
       "      <th>hdi</th>\n",
       "      <th>material_footprint_per_capita</th>\n",
       "      <th>mfpc_index</th>\n",
       "      <th>co2_per_capita</th>\n",
       "      <th>co2pc_index</th>\n",
       "      <th>adjustment_index</th>\n",
       "      <th>phdi</th>\n",
       "    </tr>\n",
       "  </thead>\n",
       "  <tbody>\n",
       "    <tr>\n",
       "      <th>0</th>\n",
       "      <td>Afghanistan</td>\n",
       "      <td>1998</td>\n",
       "      <td>0.344</td>\n",
       "      <td>0.96</td>\n",
       "      <td>0.993708</td>\n",
       "      <td>0.052</td>\n",
       "      <td>0.999224</td>\n",
       "      <td>0.996466</td>\n",
       "      <td>0.342784</td>\n",
       "    </tr>\n",
       "    <tr>\n",
       "      <th>1</th>\n",
       "      <td>Afghanistan</td>\n",
       "      <td>1999</td>\n",
       "      <td>0.348</td>\n",
       "      <td>0.85</td>\n",
       "      <td>0.994429</td>\n",
       "      <td>0.040</td>\n",
       "      <td>0.999403</td>\n",
       "      <td>0.996916</td>\n",
       "      <td>0.346927</td>\n",
       "    </tr>\n",
       "    <tr>\n",
       "      <th>2</th>\n",
       "      <td>Afghanistan</td>\n",
       "      <td>2000</td>\n",
       "      <td>0.350</td>\n",
       "      <td>0.60</td>\n",
       "      <td>0.996068</td>\n",
       "      <td>0.036</td>\n",
       "      <td>0.999463</td>\n",
       "      <td>0.997765</td>\n",
       "      <td>0.349218</td>\n",
       "    </tr>\n",
       "    <tr>\n",
       "      <th>3</th>\n",
       "      <td>Afghanistan</td>\n",
       "      <td>2001</td>\n",
       "      <td>0.353</td>\n",
       "      <td>0.88</td>\n",
       "      <td>0.994233</td>\n",
       "      <td>0.037</td>\n",
       "      <td>0.999448</td>\n",
       "      <td>0.996840</td>\n",
       "      <td>0.351885</td>\n",
       "    </tr>\n",
       "    <tr>\n",
       "      <th>4</th>\n",
       "      <td>Afghanistan</td>\n",
       "      <td>2002</td>\n",
       "      <td>0.384</td>\n",
       "      <td>0.95</td>\n",
       "      <td>0.993774</td>\n",
       "      <td>0.047</td>\n",
       "      <td>0.999299</td>\n",
       "      <td>0.996536</td>\n",
       "      <td>0.382670</td>\n",
       "    </tr>\n",
       "    <tr>\n",
       "      <th>...</th>\n",
       "      <td>...</td>\n",
       "      <td>...</td>\n",
       "      <td>...</td>\n",
       "      <td>...</td>\n",
       "      <td>...</td>\n",
       "      <td>...</td>\n",
       "      <td>...</td>\n",
       "      <td>...</td>\n",
       "      <td>...</td>\n",
       "    </tr>\n",
       "    <tr>\n",
       "      <th>3055</th>\n",
       "      <td>Zimbabwe</td>\n",
       "      <td>2013</td>\n",
       "      <td>0.537</td>\n",
       "      <td>3.30</td>\n",
       "      <td>0.978372</td>\n",
       "      <td>0.870</td>\n",
       "      <td>0.987018</td>\n",
       "      <td>0.982695</td>\n",
       "      <td>0.527707</td>\n",
       "    </tr>\n",
       "    <tr>\n",
       "      <th>3056</th>\n",
       "      <td>Zimbabwe</td>\n",
       "      <td>2014</td>\n",
       "      <td>0.547</td>\n",
       "      <td>3.55</td>\n",
       "      <td>0.976734</td>\n",
       "      <td>0.881</td>\n",
       "      <td>0.986854</td>\n",
       "      <td>0.981794</td>\n",
       "      <td>0.537041</td>\n",
       "    </tr>\n",
       "    <tr>\n",
       "      <th>3057</th>\n",
       "      <td>Zimbabwe</td>\n",
       "      <td>2015</td>\n",
       "      <td>0.553</td>\n",
       "      <td>3.38</td>\n",
       "      <td>0.977848</td>\n",
       "      <td>0.881</td>\n",
       "      <td>0.986854</td>\n",
       "      <td>0.982351</td>\n",
       "      <td>0.543240</td>\n",
       "    </tr>\n",
       "    <tr>\n",
       "      <th>3058</th>\n",
       "      <td>Zimbabwe</td>\n",
       "      <td>2016</td>\n",
       "      <td>0.558</td>\n",
       "      <td>3.30</td>\n",
       "      <td>0.978372</td>\n",
       "      <td>0.771</td>\n",
       "      <td>0.988495</td>\n",
       "      <td>0.983434</td>\n",
       "      <td>0.548756</td>\n",
       "    </tr>\n",
       "    <tr>\n",
       "      <th>3059</th>\n",
       "      <td>Zimbabwe</td>\n",
       "      <td>2017</td>\n",
       "      <td>0.563</td>\n",
       "      <td>3.23</td>\n",
       "      <td>0.978831</td>\n",
       "      <td>0.720</td>\n",
       "      <td>0.989256</td>\n",
       "      <td>0.984043</td>\n",
       "      <td>0.554016</td>\n",
       "    </tr>\n",
       "  </tbody>\n",
       "</table>\n",
       "<p>3060 rows × 9 columns</p>\n",
       "</div>"
      ],
      "text/plain": [
       "          country  year    hdi  material_footprint_per_capita  mfpc_index  \\\n",
       "0     Afghanistan  1998  0.344                           0.96    0.993708   \n",
       "1     Afghanistan  1999  0.348                           0.85    0.994429   \n",
       "2     Afghanistan  2000  0.350                           0.60    0.996068   \n",
       "3     Afghanistan  2001  0.353                           0.88    0.994233   \n",
       "4     Afghanistan  2002  0.384                           0.95    0.993774   \n",
       "...           ...   ...    ...                            ...         ...   \n",
       "3055     Zimbabwe  2013  0.537                           3.30    0.978372   \n",
       "3056     Zimbabwe  2014  0.547                           3.55    0.976734   \n",
       "3057     Zimbabwe  2015  0.553                           3.38    0.977848   \n",
       "3058     Zimbabwe  2016  0.558                           3.30    0.978372   \n",
       "3059     Zimbabwe  2017  0.563                           3.23    0.978831   \n",
       "\n",
       "      co2_per_capita  co2pc_index  adjustment_index      phdi  \n",
       "0              0.052     0.999224          0.996466  0.342784  \n",
       "1              0.040     0.999403          0.996916  0.346927  \n",
       "2              0.036     0.999463          0.997765  0.349218  \n",
       "3              0.037     0.999448          0.996840  0.351885  \n",
       "4              0.047     0.999299          0.996536  0.382670  \n",
       "...              ...          ...               ...       ...  \n",
       "3055           0.870     0.987018          0.982695  0.527707  \n",
       "3056           0.881     0.986854          0.981794  0.537041  \n",
       "3057           0.881     0.986854          0.982351  0.543240  \n",
       "3058           0.771     0.988495          0.983434  0.548756  \n",
       "3059           0.720     0.989256          0.984043  0.554016  \n",
       "\n",
       "[3060 rows x 9 columns]"
      ]
     },
     "execution_count": 22,
     "metadata": {},
     "output_type": "execute_result"
    }
   ],
   "source": [
    "# Define adjustment index and planetary-pressure adjustmented human development index\n",
    "df.loc[:, 'adjustment_index'] = (df.mfpc_index + df.co2pc_index) / 2\n",
    "df.loc[:, 'phdi'] = (df.adjustment_index * df.hdi)\n",
    "df"
   ]
  },
  {
   "cell_type": "code",
   "execution_count": 23,
   "metadata": {
    "ExecuteTime": {
     "end_time": "2021-06-19T05:03:21.017281Z",
     "start_time": "2021-06-19T05:03:20.977521Z"
    }
   },
   "outputs": [
    {
     "data": {
      "text/html": [
       "<div>\n",
       "<style scoped>\n",
       "    .dataframe tbody tr th:only-of-type {\n",
       "        vertical-align: middle;\n",
       "    }\n",
       "\n",
       "    .dataframe tbody tr th {\n",
       "        vertical-align: top;\n",
       "    }\n",
       "\n",
       "    .dataframe thead th {\n",
       "        text-align: right;\n",
       "    }\n",
       "</style>\n",
       "<table border=\"1\" class=\"dataframe\">\n",
       "  <thead>\n",
       "    <tr style=\"text-align: right;\">\n",
       "      <th></th>\n",
       "      <th>country</th>\n",
       "      <th>year</th>\n",
       "      <th>hdi</th>\n",
       "      <th>material_footprint_per_capita</th>\n",
       "      <th>mfpc_index</th>\n",
       "      <th>co2_per_capita</th>\n",
       "      <th>co2pc_index</th>\n",
       "      <th>adjustment_index</th>\n",
       "      <th>phdi</th>\n",
       "      <th>hdi_level</th>\n",
       "    </tr>\n",
       "  </thead>\n",
       "  <tbody>\n",
       "    <tr>\n",
       "      <th>0</th>\n",
       "      <td>Afghanistan</td>\n",
       "      <td>1998</td>\n",
       "      <td>0.344</td>\n",
       "      <td>0.96</td>\n",
       "      <td>0.993708</td>\n",
       "      <td>0.052</td>\n",
       "      <td>0.999224</td>\n",
       "      <td>0.996466</td>\n",
       "      <td>0.342784</td>\n",
       "      <td>Low</td>\n",
       "    </tr>\n",
       "    <tr>\n",
       "      <th>1</th>\n",
       "      <td>Afghanistan</td>\n",
       "      <td>1999</td>\n",
       "      <td>0.348</td>\n",
       "      <td>0.85</td>\n",
       "      <td>0.994429</td>\n",
       "      <td>0.040</td>\n",
       "      <td>0.999403</td>\n",
       "      <td>0.996916</td>\n",
       "      <td>0.346927</td>\n",
       "      <td>Low</td>\n",
       "    </tr>\n",
       "    <tr>\n",
       "      <th>2</th>\n",
       "      <td>Afghanistan</td>\n",
       "      <td>2000</td>\n",
       "      <td>0.350</td>\n",
       "      <td>0.60</td>\n",
       "      <td>0.996068</td>\n",
       "      <td>0.036</td>\n",
       "      <td>0.999463</td>\n",
       "      <td>0.997765</td>\n",
       "      <td>0.349218</td>\n",
       "      <td>Low</td>\n",
       "    </tr>\n",
       "    <tr>\n",
       "      <th>3</th>\n",
       "      <td>Afghanistan</td>\n",
       "      <td>2001</td>\n",
       "      <td>0.353</td>\n",
       "      <td>0.88</td>\n",
       "      <td>0.994233</td>\n",
       "      <td>0.037</td>\n",
       "      <td>0.999448</td>\n",
       "      <td>0.996840</td>\n",
       "      <td>0.351885</td>\n",
       "      <td>Low</td>\n",
       "    </tr>\n",
       "    <tr>\n",
       "      <th>4</th>\n",
       "      <td>Afghanistan</td>\n",
       "      <td>2002</td>\n",
       "      <td>0.384</td>\n",
       "      <td>0.95</td>\n",
       "      <td>0.993774</td>\n",
       "      <td>0.047</td>\n",
       "      <td>0.999299</td>\n",
       "      <td>0.996536</td>\n",
       "      <td>0.382670</td>\n",
       "      <td>Low</td>\n",
       "    </tr>\n",
       "  </tbody>\n",
       "</table>\n",
       "</div>"
      ],
      "text/plain": [
       "       country  year    hdi  material_footprint_per_capita  mfpc_index  \\\n",
       "0  Afghanistan  1998  0.344                           0.96    0.993708   \n",
       "1  Afghanistan  1999  0.348                           0.85    0.994429   \n",
       "2  Afghanistan  2000  0.350                           0.60    0.996068   \n",
       "3  Afghanistan  2001  0.353                           0.88    0.994233   \n",
       "4  Afghanistan  2002  0.384                           0.95    0.993774   \n",
       "\n",
       "   co2_per_capita  co2pc_index  adjustment_index      phdi hdi_level  \n",
       "0           0.052     0.999224          0.996466  0.342784       Low  \n",
       "1           0.040     0.999403          0.996916  0.346927       Low  \n",
       "2           0.036     0.999463          0.997765  0.349218       Low  \n",
       "3           0.037     0.999448          0.996840  0.351885       Low  \n",
       "4           0.047     0.999299          0.996536  0.382670       Low  "
      ]
     },
     "execution_count": 23,
     "metadata": {},
     "output_type": "execute_result"
    }
   ],
   "source": [
    "# Define human development level\n",
    "hdi_level = []\n",
    "for x in df.hdi:\n",
    "    if x >= 0.8:\n",
    "        hdi_level.append('Very High')\n",
    "    elif x >= 0.7:\n",
    "        hdi_level.append('High')\n",
    "    elif x >= 0.55:\n",
    "        hdi_level.append('Medium')\n",
    "    else:\n",
    "        hdi_level.append('Low')\n",
    "df.loc[:, 'hdi_level'] = hdi_level\n",
    "df.head()"
   ]
  },
  {
   "cell_type": "markdown",
   "metadata": {},
   "source": [
    "## Data Analysis"
   ]
  },
  {
   "cell_type": "markdown",
   "metadata": {},
   "source": [
    "### HDI in 2017"
   ]
  },
  {
   "cell_type": "code",
   "execution_count": 24,
   "metadata": {
    "ExecuteTime": {
     "end_time": "2021-06-19T05:03:21.051435Z",
     "start_time": "2021-06-19T05:03:21.021782Z"
    }
   },
   "outputs": [
    {
     "data": {
      "text/html": [
       "<div>\n",
       "<style scoped>\n",
       "    .dataframe tbody tr th:only-of-type {\n",
       "        vertical-align: middle;\n",
       "    }\n",
       "\n",
       "    .dataframe tbody tr th {\n",
       "        vertical-align: top;\n",
       "    }\n",
       "\n",
       "    .dataframe thead th {\n",
       "        text-align: right;\n",
       "    }\n",
       "</style>\n",
       "<table border=\"1\" class=\"dataframe\">\n",
       "  <thead>\n",
       "    <tr style=\"text-align: right;\">\n",
       "      <th></th>\n",
       "      <th>index</th>\n",
       "      <th>country</th>\n",
       "      <th>year</th>\n",
       "      <th>hdi</th>\n",
       "      <th>material_footprint_per_capita</th>\n",
       "      <th>mfpc_index</th>\n",
       "      <th>co2_per_capita</th>\n",
       "      <th>co2pc_index</th>\n",
       "      <th>adjustment_index</th>\n",
       "      <th>phdi</th>\n",
       "      <th>hdi_level</th>\n",
       "    </tr>\n",
       "  </thead>\n",
       "  <tbody>\n",
       "    <tr>\n",
       "      <th>0</th>\n",
       "      <td>19</td>\n",
       "      <td>Afghanistan</td>\n",
       "      <td>2017</td>\n",
       "      <td>0.506</td>\n",
       "      <td>1.22</td>\n",
       "      <td>0.992004</td>\n",
       "      <td>0.189</td>\n",
       "      <td>0.997180</td>\n",
       "      <td>0.994592</td>\n",
       "      <td>0.503264</td>\n",
       "      <td>Low</td>\n",
       "    </tr>\n",
       "    <tr>\n",
       "      <th>1</th>\n",
       "      <td>39</td>\n",
       "      <td>Albania</td>\n",
       "      <td>2017</td>\n",
       "      <td>0.790</td>\n",
       "      <td>11.38</td>\n",
       "      <td>0.925416</td>\n",
       "      <td>1.874</td>\n",
       "      <td>0.972036</td>\n",
       "      <td>0.948726</td>\n",
       "      <td>0.749494</td>\n",
       "      <td>High</td>\n",
       "    </tr>\n",
       "    <tr>\n",
       "      <th>2</th>\n",
       "      <td>59</td>\n",
       "      <td>Algeria</td>\n",
       "      <td>2017</td>\n",
       "      <td>0.745</td>\n",
       "      <td>3.09</td>\n",
       "      <td>0.979748</td>\n",
       "      <td>3.707</td>\n",
       "      <td>0.944684</td>\n",
       "      <td>0.962216</td>\n",
       "      <td>0.716851</td>\n",
       "      <td>High</td>\n",
       "    </tr>\n",
       "    <tr>\n",
       "      <th>3</th>\n",
       "      <td>79</td>\n",
       "      <td>Angola</td>\n",
       "      <td>2017</td>\n",
       "      <td>0.582</td>\n",
       "      <td>3.35</td>\n",
       "      <td>0.978044</td>\n",
       "      <td>1.257</td>\n",
       "      <td>0.981243</td>\n",
       "      <td>0.979644</td>\n",
       "      <td>0.570153</td>\n",
       "      <td>Medium</td>\n",
       "    </tr>\n",
       "    <tr>\n",
       "      <th>4</th>\n",
       "      <td>99</td>\n",
       "      <td>Antigua and Barbuda</td>\n",
       "      <td>2017</td>\n",
       "      <td>0.768</td>\n",
       "      <td>12.54</td>\n",
       "      <td>0.917814</td>\n",
       "      <td>5.168</td>\n",
       "      <td>0.922883</td>\n",
       "      <td>0.920348</td>\n",
       "      <td>0.706827</td>\n",
       "      <td>High</td>\n",
       "    </tr>\n",
       "  </tbody>\n",
       "</table>\n",
       "</div>"
      ],
      "text/plain": [
       "   index              country  year    hdi  material_footprint_per_capita  \\\n",
       "0     19          Afghanistan  2017  0.506                           1.22   \n",
       "1     39              Albania  2017  0.790                          11.38   \n",
       "2     59              Algeria  2017  0.745                           3.09   \n",
       "3     79               Angola  2017  0.582                           3.35   \n",
       "4     99  Antigua and Barbuda  2017  0.768                          12.54   \n",
       "\n",
       "   mfpc_index  co2_per_capita  co2pc_index  adjustment_index      phdi  \\\n",
       "0    0.992004           0.189     0.997180          0.994592  0.503264   \n",
       "1    0.925416           1.874     0.972036          0.948726  0.749494   \n",
       "2    0.979748           3.707     0.944684          0.962216  0.716851   \n",
       "3    0.978044           1.257     0.981243          0.979644  0.570153   \n",
       "4    0.917814           5.168     0.922883          0.920348  0.706827   \n",
       "\n",
       "  hdi_level  \n",
       "0       Low  \n",
       "1      High  \n",
       "2      High  \n",
       "3    Medium  \n",
       "4      High  "
      ]
     },
     "execution_count": 24,
     "metadata": {},
     "output_type": "execute_result"
    }
   ],
   "source": [
    "df_2017 = df[df.year == 2017].reset_index()\n",
    "df_2017.head()"
   ]
  },
  {
   "cell_type": "code",
   "execution_count": 25,
   "metadata": {
    "ExecuteTime": {
     "end_time": "2021-06-19T05:03:21.077822Z",
     "start_time": "2021-06-19T05:03:21.056063Z"
    }
   },
   "outputs": [
    {
     "name": "stdout",
     "output_type": "stream",
     "text": [
      "<class 'pandas.core.frame.DataFrame'>\n",
      "RangeIndex: 153 entries, 0 to 152\n",
      "Data columns (total 11 columns):\n",
      " #   Column                         Non-Null Count  Dtype  \n",
      "---  ------                         --------------  -----  \n",
      " 0   index                          153 non-null    int64  \n",
      " 1   country                        153 non-null    object \n",
      " 2   year                           153 non-null    int64  \n",
      " 3   hdi                            153 non-null    float64\n",
      " 4   material_footprint_per_capita  153 non-null    float64\n",
      " 5   mfpc_index                     153 non-null    float64\n",
      " 6   co2_per_capita                 153 non-null    float64\n",
      " 7   co2pc_index                    153 non-null    float64\n",
      " 8   adjustment_index               153 non-null    float64\n",
      " 9   phdi                           153 non-null    float64\n",
      " 10  hdi_level                      153 non-null    object \n",
      "dtypes: float64(7), int64(2), object(2)\n",
      "memory usage: 13.3+ KB\n"
     ]
    }
   ],
   "source": [
    "df_2017.info()"
   ]
  },
  {
   "cell_type": "code",
   "execution_count": 26,
   "metadata": {
    "ExecuteTime": {
     "end_time": "2021-06-19T05:03:21.140744Z",
     "start_time": "2021-06-19T05:03:21.091741Z"
    }
   },
   "outputs": [
    {
     "data": {
      "text/html": [
       "<div>\n",
       "<style scoped>\n",
       "    .dataframe tbody tr th:only-of-type {\n",
       "        vertical-align: middle;\n",
       "    }\n",
       "\n",
       "    .dataframe tbody tr th {\n",
       "        vertical-align: top;\n",
       "    }\n",
       "\n",
       "    .dataframe thead th {\n",
       "        text-align: right;\n",
       "    }\n",
       "</style>\n",
       "<table border=\"1\" class=\"dataframe\">\n",
       "  <thead>\n",
       "    <tr style=\"text-align: right;\">\n",
       "      <th></th>\n",
       "      <th>index</th>\n",
       "      <th>year</th>\n",
       "      <th>hdi</th>\n",
       "      <th>material_footprint_per_capita</th>\n",
       "      <th>mfpc_index</th>\n",
       "      <th>co2_per_capita</th>\n",
       "      <th>co2pc_index</th>\n",
       "      <th>adjustment_index</th>\n",
       "      <th>phdi</th>\n",
       "    </tr>\n",
       "  </thead>\n",
       "  <tbody>\n",
       "    <tr>\n",
       "      <th>count</th>\n",
       "      <td>153.000000</td>\n",
       "      <td>153.0</td>\n",
       "      <td>153.000000</td>\n",
       "      <td>153.000000</td>\n",
       "      <td>153.000000</td>\n",
       "      <td>153.000000</td>\n",
       "      <td>153.000000</td>\n",
       "      <td>153.000000</td>\n",
       "      <td>153.000000</td>\n",
       "    </tr>\n",
       "    <tr>\n",
       "      <th>mean</th>\n",
       "      <td>1539.000000</td>\n",
       "      <td>2017.0</td>\n",
       "      <td>0.718784</td>\n",
       "      <td>14.532026</td>\n",
       "      <td>0.904758</td>\n",
       "      <td>4.619399</td>\n",
       "      <td>0.931069</td>\n",
       "      <td>0.917914</td>\n",
       "      <td>0.651162</td>\n",
       "    </tr>\n",
       "    <tr>\n",
       "      <th>std</th>\n",
       "      <td>886.227962</td>\n",
       "      <td>0.0</td>\n",
       "      <td>0.154479</td>\n",
       "      <td>16.591282</td>\n",
       "      <td>0.108738</td>\n",
       "      <td>5.800887</td>\n",
       "      <td>0.086561</td>\n",
       "      <td>0.082576</td>\n",
       "      <td>0.114285</td>\n",
       "    </tr>\n",
       "    <tr>\n",
       "      <th>min</th>\n",
       "      <td>19.000000</td>\n",
       "      <td>2017.0</td>\n",
       "      <td>0.386000</td>\n",
       "      <td>0.430000</td>\n",
       "      <td>0.226176</td>\n",
       "      <td>0.051000</td>\n",
       "      <td>0.421906</td>\n",
       "      <td>0.537497</td>\n",
       "      <td>0.381697</td>\n",
       "    </tr>\n",
       "    <tr>\n",
       "      <th>25%</th>\n",
       "      <td>779.000000</td>\n",
       "      <td>2017.0</td>\n",
       "      <td>0.588000</td>\n",
       "      <td>3.700000</td>\n",
       "      <td>0.858894</td>\n",
       "      <td>0.720000</td>\n",
       "      <td>0.904962</td>\n",
       "      <td>0.872749</td>\n",
       "      <td>0.567410</td>\n",
       "    </tr>\n",
       "    <tr>\n",
       "      <th>50%</th>\n",
       "      <td>1539.000000</td>\n",
       "      <td>2017.0</td>\n",
       "      <td>0.746000</td>\n",
       "      <td>9.120000</td>\n",
       "      <td>0.940228</td>\n",
       "      <td>2.669000</td>\n",
       "      <td>0.960173</td>\n",
       "      <td>0.950631</td>\n",
       "      <td>0.683659</td>\n",
       "    </tr>\n",
       "    <tr>\n",
       "      <th>75%</th>\n",
       "      <td>2299.000000</td>\n",
       "      <td>2017.0</td>\n",
       "      <td>0.845000</td>\n",
       "      <td>21.530000</td>\n",
       "      <td>0.975750</td>\n",
       "      <td>6.369000</td>\n",
       "      <td>0.989256</td>\n",
       "      <td>0.979756</td>\n",
       "      <td>0.739078</td>\n",
       "    </tr>\n",
       "    <tr>\n",
       "      <th>max</th>\n",
       "      <td>3059.000000</td>\n",
       "      <td>2017.0</td>\n",
       "      <td>0.954000</td>\n",
       "      <td>118.070000</td>\n",
       "      <td>0.997182</td>\n",
       "      <td>38.741000</td>\n",
       "      <td>0.999239</td>\n",
       "      <td>0.996446</td>\n",
       "      <td>0.822534</td>\n",
       "    </tr>\n",
       "  </tbody>\n",
       "</table>\n",
       "</div>"
      ],
      "text/plain": [
       "             index    year         hdi  material_footprint_per_capita  \\\n",
       "count   153.000000   153.0  153.000000                     153.000000   \n",
       "mean   1539.000000  2017.0    0.718784                      14.532026   \n",
       "std     886.227962     0.0    0.154479                      16.591282   \n",
       "min      19.000000  2017.0    0.386000                       0.430000   \n",
       "25%     779.000000  2017.0    0.588000                       3.700000   \n",
       "50%    1539.000000  2017.0    0.746000                       9.120000   \n",
       "75%    2299.000000  2017.0    0.845000                      21.530000   \n",
       "max    3059.000000  2017.0    0.954000                     118.070000   \n",
       "\n",
       "       mfpc_index  co2_per_capita  co2pc_index  adjustment_index        phdi  \n",
       "count  153.000000      153.000000   153.000000        153.000000  153.000000  \n",
       "mean     0.904758        4.619399     0.931069          0.917914    0.651162  \n",
       "std      0.108738        5.800887     0.086561          0.082576    0.114285  \n",
       "min      0.226176        0.051000     0.421906          0.537497    0.381697  \n",
       "25%      0.858894        0.720000     0.904962          0.872749    0.567410  \n",
       "50%      0.940228        2.669000     0.960173          0.950631    0.683659  \n",
       "75%      0.975750        6.369000     0.989256          0.979756    0.739078  \n",
       "max      0.997182       38.741000     0.999239          0.996446    0.822534  "
      ]
     },
     "execution_count": 26,
     "metadata": {},
     "output_type": "execute_result"
    }
   ],
   "source": [
    "df_2017.describe()"
   ]
  },
  {
   "cell_type": "code",
   "execution_count": 27,
   "metadata": {
    "ExecuteTime": {
     "end_time": "2021-06-19T05:03:21.156464Z",
     "start_time": "2021-06-19T05:03:21.143227Z"
    }
   },
   "outputs": [
    {
     "data": {
      "text/plain": [
       "hdi_level\n",
       "Very High    54\n",
       "High         41\n",
       "Low          30\n",
       "Medium       28\n",
       "Name: country, dtype: int64"
      ]
     },
     "execution_count": 27,
     "metadata": {},
     "output_type": "execute_result"
    }
   ],
   "source": [
    "df_2017.groupby(by='hdi_level').count().country.sort_values(ascending=False)"
   ]
  },
  {
   "cell_type": "markdown",
   "metadata": {},
   "source": [
    "<div class=\"burk\">\n",
    "**Q: Add legend to sns plot**</div><i class=\"fa fa-lightbulb-o \"></i>"
   ]
  },
  {
   "cell_type": "code",
   "execution_count": 28,
   "metadata": {
    "ExecuteTime": {
     "end_time": "2021-06-19T05:03:21.410194Z",
     "start_time": "2021-06-19T05:03:21.160725Z"
    }
   },
   "outputs": [
    {
     "data": {
      "image/png": "[encoded data removed]",
      "text/plain": [
       "<Figure size 432x288 with 1 Axes>"
      ]
     },
     "metadata": {
      "needs_background": "light"
     },
     "output_type": "display_data"
    }
   ],
   "source": [
    "order=['Very High', 'High','Medium', 'Low']\n",
    "sns.countplot(x='hdi_level', data=df_2017, order=order) #label=?\n",
    "#plt.legend(['HDI >= 0.80','HDI >= 0.70', '0.70> HDI >= 0.55', 'HDI < 0.55'])\n",
    "_ = plt.title('Number of Country by Human Development Level in 2017')"
   ]
  },
  {
   "cell_type": "markdown",
   "metadata": {},
   "source": [
    "Very-high-development countries and high-development countries accounted for 60% of 153 countries worldwide in 2017."
   ]
  },
  {
   "cell_type": "markdown",
   "metadata": {},
   "source": [
    "### HDI trend from 1998 to 2017"
   ]
  },
  {
   "cell_type": "code",
   "execution_count": 29,
   "metadata": {
    "ExecuteTime": {
     "end_time": "2021-06-19T05:03:21.441219Z",
     "start_time": "2021-06-19T05:03:21.416333Z"
    }
   },
   "outputs": [
    {
     "data": {
      "text/html": [
       "<div>\n",
       "<style scoped>\n",
       "    .dataframe tbody tr th:only-of-type {\n",
       "        vertical-align: middle;\n",
       "    }\n",
       "\n",
       "    .dataframe tbody tr th {\n",
       "        vertical-align: top;\n",
       "    }\n",
       "\n",
       "    .dataframe thead th {\n",
       "        text-align: right;\n",
       "    }\n",
       "</style>\n",
       "<table border=\"1\" class=\"dataframe\">\n",
       "  <thead>\n",
       "    <tr style=\"text-align: right;\">\n",
       "      <th></th>\n",
       "      <th>hdi_level</th>\n",
       "      <th>year</th>\n",
       "      <th>country</th>\n",
       "    </tr>\n",
       "  </thead>\n",
       "  <tbody>\n",
       "    <tr>\n",
       "      <th>0</th>\n",
       "      <td>High</td>\n",
       "      <td>1998</td>\n",
       "      <td>28</td>\n",
       "    </tr>\n",
       "    <tr>\n",
       "      <th>1</th>\n",
       "      <td>High</td>\n",
       "      <td>1999</td>\n",
       "      <td>28</td>\n",
       "    </tr>\n",
       "    <tr>\n",
       "      <th>2</th>\n",
       "      <td>High</td>\n",
       "      <td>2000</td>\n",
       "      <td>29</td>\n",
       "    </tr>\n",
       "    <tr>\n",
       "      <th>3</th>\n",
       "      <td>High</td>\n",
       "      <td>2001</td>\n",
       "      <td>31</td>\n",
       "    </tr>\n",
       "    <tr>\n",
       "      <th>4</th>\n",
       "      <td>High</td>\n",
       "      <td>2002</td>\n",
       "      <td>30</td>\n",
       "    </tr>\n",
       "    <tr>\n",
       "      <th>...</th>\n",
       "      <td>...</td>\n",
       "      <td>...</td>\n",
       "      <td>...</td>\n",
       "    </tr>\n",
       "    <tr>\n",
       "      <th>75</th>\n",
       "      <td>Very High</td>\n",
       "      <td>2013</td>\n",
       "      <td>47</td>\n",
       "    </tr>\n",
       "    <tr>\n",
       "      <th>76</th>\n",
       "      <td>Very High</td>\n",
       "      <td>2014</td>\n",
       "      <td>48</td>\n",
       "    </tr>\n",
       "    <tr>\n",
       "      <th>77</th>\n",
       "      <td>Very High</td>\n",
       "      <td>2015</td>\n",
       "      <td>51</td>\n",
       "    </tr>\n",
       "    <tr>\n",
       "      <th>78</th>\n",
       "      <td>Very High</td>\n",
       "      <td>2016</td>\n",
       "      <td>54</td>\n",
       "    </tr>\n",
       "    <tr>\n",
       "      <th>79</th>\n",
       "      <td>Very High</td>\n",
       "      <td>2017</td>\n",
       "      <td>54</td>\n",
       "    </tr>\n",
       "  </tbody>\n",
       "</table>\n",
       "<p>80 rows × 3 columns</p>\n",
       "</div>"
      ],
      "text/plain": [
       "    hdi_level  year  country\n",
       "0        High  1998       28\n",
       "1        High  1999       28\n",
       "2        High  2000       29\n",
       "3        High  2001       31\n",
       "4        High  2002       30\n",
       "..        ...   ...      ...\n",
       "75  Very High  2013       47\n",
       "76  Very High  2014       48\n",
       "77  Very High  2015       51\n",
       "78  Very High  2016       54\n",
       "79  Very High  2017       54\n",
       "\n",
       "[80 rows x 3 columns]"
      ]
     },
     "execution_count": 29,
     "metadata": {},
     "output_type": "execute_result"
    }
   ],
   "source": [
    "# Counting the coutries by HDI level and year\n",
    "df_hdi_level = df.groupby(['hdi_level', 'year']).count().country.reset_index()\n",
    "df_hdi_level"
   ]
  },
  {
   "cell_type": "code",
   "execution_count": 30,
   "metadata": {
    "ExecuteTime": {
     "end_time": "2021-06-19T05:03:21.457964Z",
     "start_time": "2021-06-19T05:03:21.445176Z"
    }
   },
   "outputs": [],
   "source": [
    "# Calculating world average HDI value\n",
    "hdi_world_year = df.groupby(['year']).mean().hdi.reset_index()"
   ]
  },
  {
   "cell_type": "code",
   "execution_count": 31,
   "metadata": {
    "ExecuteTime": {
     "end_time": "2021-06-19T05:03:22.018097Z",
     "start_time": "2021-06-19T05:03:21.462846Z"
    }
   },
   "outputs": [
    {
     "data": {
      "image/png": "[encoded data removed]",
      "text/plain": [
       "<Figure size 1080x504 with 2 Axes>"
      ]
     },
     "metadata": {
      "needs_background": "light"
     },
     "output_type": "display_data"
    }
   ],
   "source": [
    "# Average HDI value trend\n",
    "f, axes = plt.subplots(1, 2, figsize=(15, 7))\n",
    "sns.lineplot(x='year',y='hdi',data=hdi_world_year, ax=axes[0])\n",
    "axes[0].set_xlabel('Year')\n",
    "axes[0].set_ylabel('HDI')\n",
    "axes[0].set_title('Human Development Index Trend')\n",
    "axes[0].set_xticks(range(1998,2017,2))\n",
    "# Number of countries by human development level over years\n",
    "sns.lineplot(x='year',y='country',data=df_hdi_level, hue='hdi_level', hue_order=order, ax=axes[1])\n",
    "axes[1].set_xlabel('Year')\n",
    "axes[1].set_ylabel('Number of Countries')\n",
    "axes[1].set_title('Human Development Level Trend')\n",
    "_ = axes[1].set_xticks(range(1998,2017,2))"
   ]
  },
  {
   "cell_type": "markdown",
   "metadata": {},
   "source": [
    "The trend of mean HDI shows that the human development of the whole world move to a better place. The number of the very-high-development and high-development countries increase over year, while the number of medium-development and low-development countries decrease. "
   ]
  },
  {
   "cell_type": "markdown",
   "metadata": {},
   "source": [
    "<div class=\"burk\">\n",
    "**Q: How to show the countries on a world map**</div><i class=\"fa fa-lightbulb-o \"></i>"
   ]
  },
  {
   "cell_type": "markdown",
   "metadata": {},
   "source": [
    "### Median of CO2 emission per capita and material footprint per capita trends"
   ]
  },
  {
   "cell_type": "code",
   "execution_count": 32,
   "metadata": {
    "ExecuteTime": {
     "end_time": "2021-06-19T05:03:22.032742Z",
     "start_time": "2021-06-19T05:03:22.022391Z"
    }
   },
   "outputs": [],
   "source": [
    "df_by_year = df.groupby(by=['year']).median().reset_index()"
   ]
  },
  {
   "cell_type": "code",
   "execution_count": 33,
   "metadata": {
    "ExecuteTime": {
     "end_time": "2021-06-19T05:03:22.628499Z",
     "start_time": "2021-06-19T05:03:22.035283Z"
    }
   },
   "outputs": [
    {
     "data": {
      "image/png": "[encoded data removed]",
      "text/plain": [
       "<Figure size 1224x504 with 3 Axes>"
      ]
     },
     "metadata": {
      "needs_background": "light"
     },
     "output_type": "display_data"
    }
   ],
   "source": [
    "f, axes = plt.subplots(1, 3, figsize=(17, 7))\n",
    "sns.lineplot(x='year',y='hdi',data=df_by_year, ax=axes[0])\n",
    "axes[0].set_title('World HDI Trend_Median')\n",
    "axes[0].set_xticks(range(1998,2017,2))\n",
    "sns.lineplot(x='year',y='co2_per_capita',data=df_by_year, ax=axes[1])\n",
    "axes[1].set_title('World CO2 Emission Per Capita Trend_Median')\n",
    "axes[1].set_xticks(range(1998,2017,2))\n",
    "sns.lineplot(x='year',y='material_footprint_per_capita',data=df_by_year, ax=axes[2])\n",
    "axes[2].set_title('World Material Footprint Per Capita Trend_Median')\n",
    "_ = axes[2].set_xticks(range(1998,2017,2))"
   ]
  },
  {
   "cell_type": "markdown",
   "metadata": {},
   "source": [
    "The median of world CO2 emission per capita and material footprint per capita increased during the 20-years period, while the median of world HDI wend upward."
   ]
  },
  {
   "cell_type": "code",
   "execution_count": 34,
   "metadata": {
    "ExecuteTime": {
     "end_time": "2021-06-19T05:03:22.661075Z",
     "start_time": "2021-06-19T05:03:22.631005Z"
    }
   },
   "outputs": [
    {
     "data": {
      "text/html": [
       "<div>\n",
       "<style scoped>\n",
       "    .dataframe tbody tr th:only-of-type {\n",
       "        vertical-align: middle;\n",
       "    }\n",
       "\n",
       "    .dataframe tbody tr th {\n",
       "        vertical-align: top;\n",
       "    }\n",
       "\n",
       "    .dataframe thead th {\n",
       "        text-align: right;\n",
       "    }\n",
       "</style>\n",
       "<table border=\"1\" class=\"dataframe\">\n",
       "  <thead>\n",
       "    <tr style=\"text-align: right;\">\n",
       "      <th></th>\n",
       "      <th>hdi_level</th>\n",
       "      <th>year</th>\n",
       "      <th>hdi</th>\n",
       "      <th>material_footprint_per_capita</th>\n",
       "      <th>mfpc_index</th>\n",
       "      <th>co2_per_capita</th>\n",
       "      <th>co2pc_index</th>\n",
       "      <th>adjustment_index</th>\n",
       "      <th>phdi</th>\n",
       "    </tr>\n",
       "  </thead>\n",
       "  <tbody>\n",
       "    <tr>\n",
       "      <th>0</th>\n",
       "      <td>High</td>\n",
       "      <td>1998</td>\n",
       "      <td>0.7555</td>\n",
       "      <td>14.230</td>\n",
       "      <td>0.906737</td>\n",
       "      <td>5.8820</td>\n",
       "      <td>0.912229</td>\n",
       "      <td>0.914480</td>\n",
       "      <td>0.674693</td>\n",
       "    </tr>\n",
       "    <tr>\n",
       "      <th>1</th>\n",
       "      <td>High</td>\n",
       "      <td>1999</td>\n",
       "      <td>0.7555</td>\n",
       "      <td>13.875</td>\n",
       "      <td>0.909064</td>\n",
       "      <td>5.8945</td>\n",
       "      <td>0.912042</td>\n",
       "      <td>0.909433</td>\n",
       "      <td>0.683929</td>\n",
       "    </tr>\n",
       "    <tr>\n",
       "      <th>2</th>\n",
       "      <td>High</td>\n",
       "      <td>2000</td>\n",
       "      <td>0.7570</td>\n",
       "      <td>13.300</td>\n",
       "      <td>0.912833</td>\n",
       "      <td>5.6650</td>\n",
       "      <td>0.915467</td>\n",
       "      <td>0.913354</td>\n",
       "      <td>0.686560</td>\n",
       "    </tr>\n",
       "    <tr>\n",
       "      <th>3</th>\n",
       "      <td>High</td>\n",
       "      <td>2001</td>\n",
       "      <td>0.7530</td>\n",
       "      <td>13.740</td>\n",
       "      <td>0.909949</td>\n",
       "      <td>6.1670</td>\n",
       "      <td>0.907976</td>\n",
       "      <td>0.918318</td>\n",
       "      <td>0.683494</td>\n",
       "    </tr>\n",
       "    <tr>\n",
       "      <th>4</th>\n",
       "      <td>High</td>\n",
       "      <td>2002</td>\n",
       "      <td>0.7460</td>\n",
       "      <td>12.710</td>\n",
       "      <td>0.916699</td>\n",
       "      <td>5.6060</td>\n",
       "      <td>0.916347</td>\n",
       "      <td>0.918611</td>\n",
       "      <td>0.687376</td>\n",
       "    </tr>\n",
       "    <tr>\n",
       "      <th>...</th>\n",
       "      <td>...</td>\n",
       "      <td>...</td>\n",
       "      <td>...</td>\n",
       "      <td>...</td>\n",
       "      <td>...</td>\n",
       "      <td>...</td>\n",
       "      <td>...</td>\n",
       "      <td>...</td>\n",
       "      <td>...</td>\n",
       "    </tr>\n",
       "    <tr>\n",
       "      <th>75</th>\n",
       "      <td>Very High</td>\n",
       "      <td>2013</td>\n",
       "      <td>0.8690</td>\n",
       "      <td>23.290</td>\n",
       "      <td>0.847359</td>\n",
       "      <td>7.6100</td>\n",
       "      <td>0.886443</td>\n",
       "      <td>0.862161</td>\n",
       "      <td>0.753768</td>\n",
       "    </tr>\n",
       "    <tr>\n",
       "      <th>76</th>\n",
       "      <td>Very High</td>\n",
       "      <td>2014</td>\n",
       "      <td>0.8745</td>\n",
       "      <td>23.495</td>\n",
       "      <td>0.846015</td>\n",
       "      <td>7.0195</td>\n",
       "      <td>0.895255</td>\n",
       "      <td>0.862769</td>\n",
       "      <td>0.761466</td>\n",
       "    </tr>\n",
       "    <tr>\n",
       "      <th>77</th>\n",
       "      <td>Very High</td>\n",
       "      <td>2015</td>\n",
       "      <td>0.8770</td>\n",
       "      <td>23.450</td>\n",
       "      <td>0.846310</td>\n",
       "      <td>7.0320</td>\n",
       "      <td>0.895068</td>\n",
       "      <td>0.861736</td>\n",
       "      <td>0.759870</td>\n",
       "    </tr>\n",
       "    <tr>\n",
       "      <th>78</th>\n",
       "      <td>Very High</td>\n",
       "      <td>2016</td>\n",
       "      <td>0.8710</td>\n",
       "      <td>23.795</td>\n",
       "      <td>0.844049</td>\n",
       "      <td>6.8370</td>\n",
       "      <td>0.897978</td>\n",
       "      <td>0.863575</td>\n",
       "      <td>0.761990</td>\n",
       "    </tr>\n",
       "    <tr>\n",
       "      <th>79</th>\n",
       "      <td>Very High</td>\n",
       "      <td>2017</td>\n",
       "      <td>0.8785</td>\n",
       "      <td>24.110</td>\n",
       "      <td>0.841985</td>\n",
       "      <td>6.8575</td>\n",
       "      <td>0.897672</td>\n",
       "      <td>0.862339</td>\n",
       "      <td>0.763873</td>\n",
       "    </tr>\n",
       "  </tbody>\n",
       "</table>\n",
       "<p>80 rows × 9 columns</p>\n",
       "</div>"
      ],
      "text/plain": [
       "    hdi_level  year     hdi  material_footprint_per_capita  mfpc_index  \\\n",
       "0        High  1998  0.7555                         14.230    0.906737   \n",
       "1        High  1999  0.7555                         13.875    0.909064   \n",
       "2        High  2000  0.7570                         13.300    0.912833   \n",
       "3        High  2001  0.7530                         13.740    0.909949   \n",
       "4        High  2002  0.7460                         12.710    0.916699   \n",
       "..        ...   ...     ...                            ...         ...   \n",
       "75  Very High  2013  0.8690                         23.290    0.847359   \n",
       "76  Very High  2014  0.8745                         23.495    0.846015   \n",
       "77  Very High  2015  0.8770                         23.450    0.846310   \n",
       "78  Very High  2016  0.8710                         23.795    0.844049   \n",
       "79  Very High  2017  0.8785                         24.110    0.841985   \n",
       "\n",
       "    co2_per_capita  co2pc_index  adjustment_index      phdi  \n",
       "0           5.8820     0.912229          0.914480  0.674693  \n",
       "1           5.8945     0.912042          0.909433  0.683929  \n",
       "2           5.6650     0.915467          0.913354  0.686560  \n",
       "3           6.1670     0.907976          0.918318  0.683494  \n",
       "4           5.6060     0.916347          0.918611  0.687376  \n",
       "..             ...          ...               ...       ...  \n",
       "75          7.6100     0.886443          0.862161  0.753768  \n",
       "76          7.0195     0.895255          0.862769  0.761466  \n",
       "77          7.0320     0.895068          0.861736  0.759870  \n",
       "78          6.8370     0.897978          0.863575  0.761990  \n",
       "79          6.8575     0.897672          0.862339  0.763873  \n",
       "\n",
       "[80 rows x 9 columns]"
      ]
     },
     "execution_count": 34,
     "metadata": {},
     "output_type": "execute_result"
    }
   ],
   "source": [
    "df_by_level_year = df.groupby(by=['hdi_level', 'year']).median().reset_index()\n",
    "df_by_level_year"
   ]
  },
  {
   "cell_type": "code",
   "execution_count": 35,
   "metadata": {
    "ExecuteTime": {
     "end_time": "2021-06-19T05:03:23.211861Z",
     "start_time": "2021-06-19T05:03:22.663792Z"
    }
   },
   "outputs": [
    {
     "data": {
      "image/png": "[encoded data removed]",
      "text/plain": [
       "<Figure size 1152x504 with 2 Axes>"
      ]
     },
     "metadata": {
      "needs_background": "light"
     },
     "output_type": "display_data"
    }
   ],
   "source": [
    "# CO2 emission and material footprint per capita by human development level\n",
    "f, axes = plt.subplots(1,2,figsize=(16,7))\n",
    "sns.lineplot(y='co2_per_capita', x='year',data=df_by_level_year, hue='hdi_level',hue_order=order, ax = axes[0])\n",
    "axes[0].set_title('CO2 Emission by HDI Level')\n",
    "axes[0].set_xticks(range(1998,2017,2))\n",
    "sns.lineplot(y='material_footprint_per_capita', x='year',data=df_by_level_year, hue='hdi_level',hue_order=order,ax = axes[1])\n",
    "axes[1].set_title('Matterial Footprint by HDI Level')\n",
    "_ = axes[1].set_xticks(range(1998,2017,2))"
   ]
  },
  {
   "cell_type": "markdown",
   "metadata": {},
   "source": [
    "The CO2 Emission and Material Footprint per capita are much higher in very-high-development countries than in medium-and-low-development countries."
   ]
  },
  {
   "cell_type": "markdown",
   "metadata": {},
   "source": [
    "### Human development index(HDI), planet-pressure adjusted HDI(PHDI), and adjustment index"
   ]
  },
  {
   "cell_type": "code",
   "execution_count": 36,
   "metadata": {
    "ExecuteTime": {
     "end_time": "2021-06-19T05:03:23.802998Z",
     "start_time": "2021-06-19T05:03:23.214835Z"
    }
   },
   "outputs": [
    {
     "data": {
      "image/png": "[encoded data removed]",
      "text/plain": [
       "<Figure size 1296x504 with 2 Axes>"
      ]
     },
     "metadata": {
      "needs_background": "light"
     },
     "output_type": "display_data"
    }
   ],
   "source": [
    "# World HDI, PHDI, adjustment index\n",
    "f, axes = plt.subplots(1,2,figsize=(18,7))\n",
    "df_by_year.plot(x='year',y=['hdi','phdi'], ax=axes[0])\n",
    "axes[0].set_xticks(range(1998,2017,2))\n",
    "axes[0].set_xlim(1998,2017)\n",
    "axes[0].yaxis.set_ticks_position('both')\n",
    "axes[0].tick_params(axis='y', which='both', labelleft='on', labelright='on')\n",
    "axes[0].set_ylabel('hdi v.s. phdi')\n",
    "axes[0].set_title('World HDI and PHDI Trend')\n",
    "df_by_year.plot(x='year',y='adjustment_index', ax=axes[1])\n",
    "axes[1].set_xticks(range(1998,2017,2))\n",
    "axes[1].set_xlim(1998,2017)\n",
    "axes[1].set_ylabel('adjustment index')\n",
    "axes[1].set_title('World Adjustment Index Trend')\n",
    "axes[1].yaxis.set_ticks_position('both')\n",
    "_ = axes[1].tick_params(axis='y', which='both', labelleft='on', labelright='on')"
   ]
  },
  {
   "cell_type": "markdown",
   "metadata": {},
   "source": [
    "The difference between HDI and PHDI increased in the 20-years period with the decreasing of the adjustment index, showing growing planet pressure."
   ]
  },
  {
   "cell_type": "code",
   "execution_count": 37,
   "metadata": {
    "ExecuteTime": {
     "end_time": "2021-06-19T05:03:24.126351Z",
     "start_time": "2021-06-19T05:03:23.806335Z"
    }
   },
   "outputs": [
    {
     "data": {
      "image/png": "[encoded data removed]",
      "text/plain": [
       "<Figure size 504x504 with 1 Axes>"
      ]
     },
     "metadata": {
      "needs_background": "light"
     },
     "output_type": "display_data"
    }
   ],
   "source": [
    "plt.subplots(figsize=(7,7))\n",
    "sns.lineplot(x='year',y='adjustment_index', data=df_by_level_year, hue='hdi_level', hue_order=order)\n",
    "plt.xticks(range(1998,2017,2))\n",
    "_ = plt.title('Adjustment Index Trend by Human Development Level')"
   ]
  },
  {
   "cell_type": "markdown",
   "metadata": {},
   "source": [
    "### HDI v.s. PHDI in 2017 by Human Development Level"
   ]
  },
  {
   "cell_type": "code",
   "execution_count": 38,
   "metadata": {
    "ExecuteTime": {
     "end_time": "2021-06-19T05:03:24.138761Z",
     "start_time": "2021-06-19T05:03:24.129475Z"
    }
   },
   "outputs": [
    {
     "data": {
      "text/plain": [
       "'Guyana'"
      ]
     },
     "execution_count": 38,
     "metadata": {},
     "output_type": "execute_result"
    }
   ],
   "source": [
    "df_2017.iloc[df_2017[df_2017.hdi_level=='Medium'].phdi.idxmin(),:].country"
   ]
  },
  {
   "cell_type": "code",
   "execution_count": 39,
   "metadata": {
    "ExecuteTime": {
     "end_time": "2021-06-19T05:03:24.151365Z",
     "start_time": "2021-06-19T05:03:24.141162Z"
    }
   },
   "outputs": [
    {
     "data": {
      "text/plain": [
       "'Turkmenistan'"
      ]
     },
     "execution_count": 39,
     "metadata": {},
     "output_type": "execute_result"
    }
   ],
   "source": [
    "df_2017.iloc[df_2017[df_2017.hdi_level=='High'].phdi.idxmin(),:].country"
   ]
  },
  {
   "cell_type": "code",
   "execution_count": 40,
   "metadata": {
    "ExecuteTime": {
     "end_time": "2021-06-19T05:03:24.205596Z",
     "start_time": "2021-06-19T05:03:24.154370Z"
    }
   },
   "outputs": [
    {
     "data": {
      "text/plain": [
       "83               Luxembourg\n",
       "75                   Kuwait\n",
       "116                   Qatar\n",
       "146    United Arab Emirates\n",
       "126               Singapore\n",
       "Name: country, dtype: object"
      ]
     },
     "execution_count": 40,
     "metadata": {},
     "output_type": "execute_result"
    }
   ],
   "source": [
    "df_2017[df_2017.hdi_level=='Very High'].sort_values(by='phdi').country[:5]"
   ]
  },
  {
   "cell_type": "code",
   "execution_count": 41,
   "metadata": {
    "ExecuteTime": {
     "end_time": "2021-06-19T05:03:24.269389Z",
     "start_time": "2021-06-19T05:03:24.209748Z"
    }
   },
   "outputs": [
    {
     "data": {
      "text/plain": [
       "54         Germany\n",
       "135         Sweden\n",
       "136    Switzerland\n",
       "39         Denmark\n",
       "67         Ireland\n",
       "Name: country, dtype: object"
      ]
     },
     "execution_count": 41,
     "metadata": {},
     "output_type": "execute_result"
    }
   ],
   "source": [
    "df_2017[df_2017.hdi_level=='Very High'].sort_values(by='phdi').country[-5:]"
   ]
  },
  {
   "cell_type": "code",
   "execution_count": 42,
   "metadata": {
    "ExecuteTime": {
     "end_time": "2021-06-19T05:03:24.653573Z",
     "start_time": "2021-06-19T05:03:24.277774Z"
    }
   },
   "outputs": [
    {
     "data": {
      "text/plain": [
       "Text(0.76, 0.4, 'Luxembourg')"
      ]
     },
     "execution_count": 42,
     "metadata": {},
     "output_type": "execute_result"
    },
    {
     "data": {
      "image/png": "[encoded data removed]",
      "text/plain": [
       "<Figure size 504x504 with 1 Axes>"
      ]
     },
     "metadata": {
      "needs_background": "light"
     },
     "output_type": "display_data"
    }
   ],
   "source": [
    "# HDI v.s. PHDI by development level\n",
    "f, ax = plt.subplots(figsize=(7,7))\n",
    "sns.scatterplot(x='hdi', y='phdi', data=df_2017,hue='hdi_level',hue_order=order)\n",
    "plt.xticks(range(1998,2017,2))\n",
    "plt.title('HDI v.s. PHDI in 2017 by Human Development Level')\n",
    "_ = plt.plot([0.3, 1], [0.3, 1], ls=\"--\", c='black')\n",
    "ax.annotate('Guyana', xy=(0.67, 0.41), xytext=(0.55, 0.47),\n",
    "            arrowprops=dict(facecolor='green', shrink=0.05))\n",
    "ax.annotate('Turkmenistan', xy=(0.7, 0.58), xytext=(0.66, 0.50),\n",
    "            arrowprops=dict(facecolor='orange', shrink=0.05))\n",
    "ax.annotate('Luxembourg', xy=(0.91, 0.48), xytext=(0.76, 0.4),\n",
    "            arrowprops=dict(facecolor='blue', shrink=0.05))"
   ]
  },
  {
   "cell_type": "code",
   "execution_count": null,
   "metadata": {},
   "outputs": [],
   "source": []
  }
 ],
 "metadata": {
  "hide_input": false,
  "kernelspec": {
   "display_name": "Python 3",
   "language": "python",
   "name": "python3"
  },
  "language_info": {
   "codemirror_mode": {
    "name": "ipython",
    "version": 3
   },
   "file_extension": ".py",
   "mimetype": "text/x-python",
   "name": "python",
   "nbconvert_exporter": "python",
   "pygments_lexer": "ipython3",
   "version": "3.8.3"
  },
  "toc": {
   "base_numbering": 1,
   "nav_menu": {},
   "number_sections": true,
   "sideBar": true,
   "skip_h1_title": false,
   "title_cell": "Table of Contents",
   "title_sidebar": "Contents",
   "toc_cell": true,
   "toc_position": {},
   "toc_section_display": true,
   "toc_window_display": false
  },
  "varInspector": {
   "cols": {
    "lenName": 16,
    "lenType": 16,
    "lenVar": 40
   },
   "kernels_config": {
    "python": {
     "delete_cmd_postfix": "",
     "delete_cmd_prefix": "del ",
     "library": "var_list.py",
     "varRefreshCmd": "print(var_dic_list())"
    },
    "r": {
     "delete_cmd_postfix": ") ",
     "delete_cmd_prefix": "rm(",
     "library": "var_list.r",
     "varRefreshCmd": "cat(var_dic_list()) "
    }
   },
   "types_to_exclude": [
    "module",
    "function",
    "builtin_function_or_method",
    "instance",
    "_Feature"
   ],
   "window_display": false
  }
 },
 "nbformat": 4,
 "nbformat_minor": 4
}
